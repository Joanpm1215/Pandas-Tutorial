{
 "cells": [
  {
   "cell_type": "markdown",
   "metadata": {},
   "source": [
    "<h1> Pandas Library Tutorial </h1>\n",
    "\n",
    "An introduction to the world of Data Analysis using Pandas library from Python"
   ]
  },
  {
   "cell_type": "code",
   "execution_count": 1,
   "metadata": {},
   "outputs": [
    {
     "data": {
      "text/plain": [
       "'/resources/labs/PD0101EN/Pandas-Tutorial/scripts'"
      ]
     },
     "execution_count": 1,
     "metadata": {},
     "output_type": "execute_result"
    }
   ],
   "source": [
    "# Import main libraries\n",
    "import pandas as pd\n",
    "import numpy as np\n",
    "import os\n",
    "os.getcwd()"
   ]
  },
  {
   "cell_type": "markdown",
   "metadata": {},
   "source": [
    "Downloading the data form a .csv file. Main and schema files:"
   ]
  },
  {
   "cell_type": "code",
   "execution_count": 2,
   "metadata": {},
   "outputs": [],
   "source": [
    "df = pd.read_csv(\"/resources/labs/PD0101EN/Pandas-Tutorial/data/survey_results_public.csv\", index_col=\"Respondent\")\n",
    "df_schema = pd.read_csv(\"/resources/labs/PD0101EN/Pandas-Tutorial/data/survey_results_schema.csv\", index_col=\"Column\")"
   ]
  },
  {
   "cell_type": "markdown",
   "metadata": {},
   "source": [
    "<strong>Data frame options - pd.set_option (attribute).</strong>\n",
    "<p>\n",
    "    Give the option to change some options of the data frame display.\n",
    "</p>\n",
    "<p> \n",
    "    Introducing a varible with the length of the array of the attributes (columns) of the data frame and introducing it to the pd.set_option value, could enlarge the table to the max. nº of columns automaticly.\n",
    "</p>"
   ]
  },
  {
   "cell_type": "code",
   "execution_count": 3,
   "metadata": {},
   "outputs": [],
   "source": [
    "coldf = len(df.columns)\n",
    "rowschema = len(df_schema)\n",
    "pd.set_option(\"display.max_columns\", coldf)\n",
    "pd.set_option(\"display.max_rows\", rowschema)"
   ]
  },
  {
   "cell_type": "markdown",
   "metadata": {},
   "source": [
    "<strong> Data frame size - df.shape (attribute) </strong>\n",
    "<p>\n",
    "    As it's an attribute of the data frame, it doesn't need a ().\n",
    "</p>"
   ]
  },
  {
   "cell_type": "code",
   "execution_count": 30,
   "metadata": {},
   "outputs": [
    {
     "data": {
      "text/plain": [
       "(3303, 85)"
      ]
     },
     "execution_count": 30,
     "metadata": {},
     "output_type": "execute_result"
    }
   ],
   "source": [
    "df.shape"
   ]
  },
  {
   "cell_type": "markdown",
   "metadata": {},
   "source": [
    "<strong>Data frame information - df.info() (method).</strong>\n",
    "<p>\n",
    "    As it's a method of the data frame, it does need a () after the call. <p>You can select the number of row you want to watch.</p>"
   ]
  },
  {
   "cell_type": "code",
   "execution_count": null,
   "metadata": {},
   "outputs": [],
   "source": [
    "df.info()"
   ]
  },
  {
   "cell_type": "markdown",
   "metadata": {},
   "source": [
    "<strong> Data frame visualitzation - df.head() and df.tail() (attributes). </strong>\n",
    "<p>\n",
    "    If the value is blank, it will print only the 5 first or last rows of the data frame."
   ]
  },
  {
   "cell_type": "code",
   "execution_count": 37,
   "metadata": {},
   "outputs": [
    {
     "data": {
      "text/html": [
       "<div>\n",
       "<style scoped>\n",
       "    .dataframe tbody tr th:only-of-type {\n",
       "        vertical-align: middle;\n",
       "    }\n",
       "\n",
       "    .dataframe tbody tr th {\n",
       "        vertical-align: top;\n",
       "    }\n",
       "\n",
       "    .dataframe thead th {\n",
       "        text-align: right;\n",
       "    }\n",
       "</style>\n",
       "<table border=\"1\" class=\"dataframe\">\n",
       "  <thead>\n",
       "    <tr style=\"text-align: right;\">\n",
       "      <th></th>\n",
       "      <th>Respondent</th>\n",
       "      <th>MainBranch</th>\n",
       "      <th>Hobbyist</th>\n",
       "      <th>OpenSourcer</th>\n",
       "      <th>OpenSource</th>\n",
       "      <th>Employment</th>\n",
       "      <th>Country</th>\n",
       "      <th>Student</th>\n",
       "      <th>EdLevel</th>\n",
       "      <th>UndergradMajor</th>\n",
       "      <th>EduOther</th>\n",
       "      <th>OrgSize</th>\n",
       "      <th>DevType</th>\n",
       "      <th>YearsCode</th>\n",
       "      <th>Age1stCode</th>\n",
       "      <th>YearsCodePro</th>\n",
       "      <th>CareerSat</th>\n",
       "      <th>JobSat</th>\n",
       "      <th>MgrIdiot</th>\n",
       "      <th>MgrMoney</th>\n",
       "      <th>MgrWant</th>\n",
       "      <th>JobSeek</th>\n",
       "      <th>LastHireDate</th>\n",
       "      <th>LastInt</th>\n",
       "      <th>FizzBuzz</th>\n",
       "      <th>JobFactors</th>\n",
       "      <th>ResumeUpdate</th>\n",
       "      <th>CurrencySymbol</th>\n",
       "      <th>CurrencyDesc</th>\n",
       "      <th>CompTotal</th>\n",
       "      <th>CompFreq</th>\n",
       "      <th>ConvertedComp</th>\n",
       "      <th>WorkWeekHrs</th>\n",
       "      <th>WorkPlan</th>\n",
       "      <th>WorkChallenge</th>\n",
       "      <th>WorkRemote</th>\n",
       "      <th>WorkLoc</th>\n",
       "      <th>ImpSyn</th>\n",
       "      <th>CodeRev</th>\n",
       "      <th>CodeRevHrs</th>\n",
       "      <th>UnitTests</th>\n",
       "      <th>PurchaseHow</th>\n",
       "      <th>PurchaseWhat</th>\n",
       "      <th>LanguageWorkedWith</th>\n",
       "      <th>LanguageDesireNextYear</th>\n",
       "      <th>DatabaseWorkedWith</th>\n",
       "      <th>DatabaseDesireNextYear</th>\n",
       "      <th>PlatformWorkedWith</th>\n",
       "      <th>PlatformDesireNextYear</th>\n",
       "      <th>WebFrameWorkedWith</th>\n",
       "      <th>WebFrameDesireNextYear</th>\n",
       "      <th>MiscTechWorkedWith</th>\n",
       "      <th>MiscTechDesireNextYear</th>\n",
       "      <th>DevEnviron</th>\n",
       "      <th>OpSys</th>\n",
       "      <th>Containers</th>\n",
       "      <th>BlockchainOrg</th>\n",
       "      <th>BlockchainIs</th>\n",
       "      <th>BetterLife</th>\n",
       "      <th>ITperson</th>\n",
       "      <th>OffOn</th>\n",
       "      <th>SocialMedia</th>\n",
       "      <th>Extraversion</th>\n",
       "      <th>ScreenName</th>\n",
       "      <th>SOVisit1st</th>\n",
       "      <th>SOVisitFreq</th>\n",
       "      <th>SOVisitTo</th>\n",
       "      <th>SOFindAnswer</th>\n",
       "      <th>SOTimeSaved</th>\n",
       "      <th>SOHowMuchTime</th>\n",
       "      <th>SOAccount</th>\n",
       "      <th>SOPartFreq</th>\n",
       "      <th>SOJobs</th>\n",
       "      <th>EntTeams</th>\n",
       "      <th>SOComm</th>\n",
       "      <th>WelcomeChange</th>\n",
       "      <th>SONewContent</th>\n",
       "      <th>Age</th>\n",
       "      <th>Gender</th>\n",
       "      <th>Trans</th>\n",
       "      <th>Sexuality</th>\n",
       "      <th>Ethnicity</th>\n",
       "      <th>Dependents</th>\n",
       "      <th>SurveyLength</th>\n",
       "      <th>SurveyEase</th>\n",
       "    </tr>\n",
       "  </thead>\n",
       "  <tbody>\n",
       "    <tr>\n",
       "      <th>0</th>\n",
       "      <td>1</td>\n",
       "      <td>I am a student who is learning to code</td>\n",
       "      <td>Yes</td>\n",
       "      <td>Never</td>\n",
       "      <td>The quality of OSS and closed source software ...</td>\n",
       "      <td>Not employed, and not looking for work</td>\n",
       "      <td>United Kingdom</td>\n",
       "      <td>No</td>\n",
       "      <td>Primary/elementary school</td>\n",
       "      <td>NaN</td>\n",
       "      <td>Taught yourself a new language, framework, or ...</td>\n",
       "      <td>NaN</td>\n",
       "      <td>NaN</td>\n",
       "      <td>4</td>\n",
       "      <td>10</td>\n",
       "      <td>NaN</td>\n",
       "      <td>NaN</td>\n",
       "      <td>NaN</td>\n",
       "      <td>NaN</td>\n",
       "      <td>NaN</td>\n",
       "      <td>NaN</td>\n",
       "      <td>NaN</td>\n",
       "      <td>NaN</td>\n",
       "      <td>NaN</td>\n",
       "      <td>NaN</td>\n",
       "      <td>NaN</td>\n",
       "      <td>NaN</td>\n",
       "      <td>NaN</td>\n",
       "      <td>NaN</td>\n",
       "      <td>NaN</td>\n",
       "      <td>NaN</td>\n",
       "      <td>NaN</td>\n",
       "      <td>NaN</td>\n",
       "      <td>NaN</td>\n",
       "      <td>NaN</td>\n",
       "      <td>NaN</td>\n",
       "      <td>NaN</td>\n",
       "      <td>NaN</td>\n",
       "      <td>NaN</td>\n",
       "      <td>NaN</td>\n",
       "      <td>NaN</td>\n",
       "      <td>NaN</td>\n",
       "      <td>NaN</td>\n",
       "      <td>HTML/CSS;Java;JavaScript;Python</td>\n",
       "      <td>C;C++;C#;Go;HTML/CSS;Java;JavaScript;Python;SQL</td>\n",
       "      <td>SQLite</td>\n",
       "      <td>MySQL</td>\n",
       "      <td>MacOS;Windows</td>\n",
       "      <td>Android;Arduino;Windows</td>\n",
       "      <td>Django;Flask</td>\n",
       "      <td>Flask;jQuery</td>\n",
       "      <td>Node.js</td>\n",
       "      <td>Node.js</td>\n",
       "      <td>IntelliJ;Notepad++;PyCharm</td>\n",
       "      <td>Windows</td>\n",
       "      <td>I do not use containers</td>\n",
       "      <td>NaN</td>\n",
       "      <td>NaN</td>\n",
       "      <td>Yes</td>\n",
       "      <td>Fortunately, someone else has that title</td>\n",
       "      <td>Yes</td>\n",
       "      <td>Twitter</td>\n",
       "      <td>Online</td>\n",
       "      <td>Username</td>\n",
       "      <td>2017</td>\n",
       "      <td>A few times per month or weekly</td>\n",
       "      <td>Find answers to specific questions;Learn how t...</td>\n",
       "      <td>3-5 times per week</td>\n",
       "      <td>Stack Overflow was much faster</td>\n",
       "      <td>31-60 minutes</td>\n",
       "      <td>No</td>\n",
       "      <td>NaN</td>\n",
       "      <td>No, I didn't know that Stack Overflow had a jo...</td>\n",
       "      <td>No, and I don't know what those are</td>\n",
       "      <td>Neutral</td>\n",
       "      <td>Just as welcome now as I felt last year</td>\n",
       "      <td>Tech articles written by other developers;Indu...</td>\n",
       "      <td>14.0</td>\n",
       "      <td>Man</td>\n",
       "      <td>No</td>\n",
       "      <td>Straight / Heterosexual</td>\n",
       "      <td>NaN</td>\n",
       "      <td>No</td>\n",
       "      <td>Appropriate in length</td>\n",
       "      <td>Neither easy nor difficult</td>\n",
       "    </tr>\n",
       "  </tbody>\n",
       "</table>\n",
       "</div>"
      ],
      "text/plain": [
       "   Respondent                              MainBranch Hobbyist OpenSourcer  \\\n",
       "0           1  I am a student who is learning to code      Yes       Never   \n",
       "\n",
       "                                          OpenSource  \\\n",
       "0  The quality of OSS and closed source software ...   \n",
       "\n",
       "                               Employment         Country Student  \\\n",
       "0  Not employed, and not looking for work  United Kingdom      No   \n",
       "\n",
       "                     EdLevel UndergradMajor  \\\n",
       "0  Primary/elementary school            NaN   \n",
       "\n",
       "                                            EduOther OrgSize DevType  \\\n",
       "0  Taught yourself a new language, framework, or ...     NaN     NaN   \n",
       "\n",
       "  YearsCode Age1stCode YearsCodePro CareerSat JobSat MgrIdiot MgrMoney  \\\n",
       "0         4         10          NaN       NaN    NaN      NaN      NaN   \n",
       "\n",
       "  MgrWant JobSeek LastHireDate LastInt FizzBuzz JobFactors ResumeUpdate  \\\n",
       "0     NaN     NaN          NaN     NaN      NaN        NaN          NaN   \n",
       "\n",
       "  CurrencySymbol CurrencyDesc  CompTotal CompFreq  ConvertedComp  WorkWeekHrs  \\\n",
       "0            NaN          NaN        NaN      NaN            NaN          NaN   \n",
       "\n",
       "  WorkPlan WorkChallenge WorkRemote WorkLoc ImpSyn CodeRev  CodeRevHrs  \\\n",
       "0      NaN           NaN        NaN     NaN    NaN     NaN         NaN   \n",
       "\n",
       "  UnitTests PurchaseHow PurchaseWhat               LanguageWorkedWith  \\\n",
       "0       NaN         NaN          NaN  HTML/CSS;Java;JavaScript;Python   \n",
       "\n",
       "                            LanguageDesireNextYear DatabaseWorkedWith  \\\n",
       "0  C;C++;C#;Go;HTML/CSS;Java;JavaScript;Python;SQL             SQLite   \n",
       "\n",
       "  DatabaseDesireNextYear PlatformWorkedWith   PlatformDesireNextYear  \\\n",
       "0                  MySQL      MacOS;Windows  Android;Arduino;Windows   \n",
       "\n",
       "  WebFrameWorkedWith WebFrameDesireNextYear MiscTechWorkedWith  \\\n",
       "0       Django;Flask           Flask;jQuery            Node.js   \n",
       "\n",
       "  MiscTechDesireNextYear                  DevEnviron    OpSys  \\\n",
       "0                Node.js  IntelliJ;Notepad++;PyCharm  Windows   \n",
       "\n",
       "                Containers BlockchainOrg BlockchainIs BetterLife  \\\n",
       "0  I do not use containers           NaN          NaN        Yes   \n",
       "\n",
       "                                   ITperson OffOn SocialMedia Extraversion  \\\n",
       "0  Fortunately, someone else has that title   Yes     Twitter       Online   \n",
       "\n",
       "  ScreenName SOVisit1st                      SOVisitFreq  \\\n",
       "0   Username       2017  A few times per month or weekly   \n",
       "\n",
       "                                           SOVisitTo        SOFindAnswer  \\\n",
       "0  Find answers to specific questions;Learn how t...  3-5 times per week   \n",
       "\n",
       "                      SOTimeSaved  SOHowMuchTime SOAccount SOPartFreq  \\\n",
       "0  Stack Overflow was much faster  31-60 minutes        No        NaN   \n",
       "\n",
       "                                              SOJobs  \\\n",
       "0  No, I didn't know that Stack Overflow had a jo...   \n",
       "\n",
       "                              EntTeams   SOComm  \\\n",
       "0  No, and I don't know what those are  Neutral   \n",
       "\n",
       "                             WelcomeChange  \\\n",
       "0  Just as welcome now as I felt last year   \n",
       "\n",
       "                                        SONewContent   Age Gender Trans  \\\n",
       "0  Tech articles written by other developers;Indu...  14.0    Man    No   \n",
       "\n",
       "                 Sexuality Ethnicity Dependents           SurveyLength  \\\n",
       "0  Straight / Heterosexual       NaN         No  Appropriate in length   \n",
       "\n",
       "                   SurveyEase  \n",
       "0  Neither easy nor difficult  "
      ]
     },
     "execution_count": 37,
     "metadata": {},
     "output_type": "execute_result"
    }
   ],
   "source": [
    "df.head(1)"
   ]
  },
  {
   "cell_type": "code",
   "execution_count": null,
   "metadata": {},
   "outputs": [],
   "source": [
    "df_schema.tail()"
   ]
  },
  {
   "cell_type": "markdown",
   "metadata": {},
   "source": [
    "<h2><strong>\n",
    "    Selecting rows and columns</strong>\n",
    "    </h2>\n",
    "    <p>\n",
    "    Before starting with the core of this chapter, lets make a brief reminder about what is a <strong>series</strong>. The main definition of series could be that is data enclose on a 1D array. To make it more comprehensive to us, in our pandas world, a series is a column with all its rows.\n",
    "    </p>\n",
    "<h3> Select Columns </h3>\n",
    "\n"
   ]
  },
  {
   "cell_type": "markdown",
   "metadata": {},
   "source": [
    "The first step is to now how many columns do you have in your dataframe. To make a quick look you can use <strong>df.columns</strong> method. It will return a list with all the columns names and the type of them."
   ]
  },
  {
   "cell_type": "code",
   "execution_count": 41,
   "metadata": {},
   "outputs": [
    {
     "data": {
      "text/plain": [
       "Index(['Respondent', 'MainBranch', 'Hobbyist', 'OpenSourcer', 'OpenSource',\n",
       "       'Employment', 'Country', 'Student', 'EdLevel', 'UndergradMajor',\n",
       "       'EduOther', 'OrgSize', 'DevType', 'YearsCode', 'Age1stCode',\n",
       "       'YearsCodePro', 'CareerSat', 'JobSat', 'MgrIdiot', 'MgrMoney',\n",
       "       'MgrWant', 'JobSeek', 'LastHireDate', 'LastInt', 'FizzBuzz',\n",
       "       'JobFactors', 'ResumeUpdate', 'CurrencySymbol', 'CurrencyDesc',\n",
       "       'CompTotal', 'CompFreq', 'ConvertedComp', 'WorkWeekHrs', 'WorkPlan',\n",
       "       'WorkChallenge', 'WorkRemote', 'WorkLoc', 'ImpSyn', 'CodeRev',\n",
       "       'CodeRevHrs', 'UnitTests', 'PurchaseHow', 'PurchaseWhat',\n",
       "       'LanguageWorkedWith', 'LanguageDesireNextYear', 'DatabaseWorkedWith',\n",
       "       'DatabaseDesireNextYear', 'PlatformWorkedWith',\n",
       "       'PlatformDesireNextYear', 'WebFrameWorkedWith',\n",
       "       'WebFrameDesireNextYear', 'MiscTechWorkedWith',\n",
       "       'MiscTechDesireNextYear', 'DevEnviron', 'OpSys', 'Containers',\n",
       "       'BlockchainOrg', 'BlockchainIs', 'BetterLife', 'ITperson', 'OffOn',\n",
       "       'SocialMedia', 'Extraversion', 'ScreenName', 'SOVisit1st',\n",
       "       'SOVisitFreq', 'SOVisitTo', 'SOFindAnswer', 'SOTimeSaved',\n",
       "       'SOHowMuchTime', 'SOAccount', 'SOPartFreq', 'SOJobs', 'EntTeams',\n",
       "       'SOComm', 'WelcomeChange', 'SONewContent', 'Age', 'Gender', 'Trans',\n",
       "       'Sexuality', 'Ethnicity', 'Dependents', 'SurveyLength', 'SurveyEase'],\n",
       "      dtype='object')"
      ]
     },
     "execution_count": 41,
     "metadata": {},
     "output_type": "execute_result"
    }
   ],
   "source": [
    "df.columns"
   ]
  },
  {
   "cell_type": "markdown",
   "metadata": {},
   "source": [
    " <p>\n",
    "    Now, lets back to the topic. To select a single column of a data frame, you could use two methods: <strong>df[\"Employment\"]</strong> or <strong>df.Employment</strong>. Due incompatibilities reasons with confusing methods names with the names of the columns, we are going to use the first one, with the name of the column enclosed with \"\".\n",
    "    </p>\n",
    "    <p>\n",
    "    The output will be a series of the selected column."
   ]
  },
  {
   "cell_type": "code",
   "execution_count": null,
   "metadata": {},
   "outputs": [],
   "source": [
    "df[\"Employment\"]"
   ]
  },
  {
   "cell_type": "markdown",
   "metadata": {},
   "source": [
    "You also can select multiple columns. As a series is a 1D array, in this case will return a new data frame with the filtred columns. To select multiple columns use <strong>df[[\"column1\",\"column2\"]]</strong> method."
   ]
  },
  {
   "cell_type": "code",
   "execution_count": null,
   "metadata": {},
   "outputs": [],
   "source": [
    "df[[\"MainBranch\",\"Employment\"]]"
   ]
  },
  {
   "cell_type": "markdown",
   "metadata": {},
   "source": [
    "<h3> Select rows </h3>\n",
    "<p>There are two main methods of selecting rows in pandas. The first one is loc and the other iloc. </p>\n"
   ]
  },
  {
   "cell_type": "markdown",
   "metadata": {},
   "source": [
    "<strong> iloc method - df.iloc[] </strong>\n",
    "<p>\n",
    "This method use the indexs of each value to acces them. You also can select multiple one or multiple rows as made before with the columns. Be aware that for one row will return a series and for multiple, a new dataframe.\n",
    "    </p>"
   ]
  },
  {
   "cell_type": "code",
   "execution_count": null,
   "metadata": {},
   "outputs": [],
   "source": [
    "df.iloc[0] # Will return a series with the data of the first rows, giving as index the columns names."
   ]
  },
  {
   "cell_type": "code",
   "execution_count": 44,
   "metadata": {},
   "outputs": [
    {
     "data": {
      "text/html": [
       "<div>\n",
       "<style scoped>\n",
       "    .dataframe tbody tr th:only-of-type {\n",
       "        vertical-align: middle;\n",
       "    }\n",
       "\n",
       "    .dataframe tbody tr th {\n",
       "        vertical-align: top;\n",
       "    }\n",
       "\n",
       "    .dataframe thead th {\n",
       "        text-align: right;\n",
       "    }\n",
       "</style>\n",
       "<table border=\"1\" class=\"dataframe\">\n",
       "  <thead>\n",
       "    <tr style=\"text-align: right;\">\n",
       "      <th></th>\n",
       "      <th>Respondent</th>\n",
       "      <th>MainBranch</th>\n",
       "      <th>Hobbyist</th>\n",
       "      <th>OpenSourcer</th>\n",
       "      <th>OpenSource</th>\n",
       "      <th>Employment</th>\n",
       "      <th>Country</th>\n",
       "      <th>Student</th>\n",
       "      <th>EdLevel</th>\n",
       "      <th>UndergradMajor</th>\n",
       "      <th>EduOther</th>\n",
       "      <th>OrgSize</th>\n",
       "      <th>DevType</th>\n",
       "      <th>YearsCode</th>\n",
       "      <th>Age1stCode</th>\n",
       "      <th>YearsCodePro</th>\n",
       "      <th>CareerSat</th>\n",
       "      <th>JobSat</th>\n",
       "      <th>MgrIdiot</th>\n",
       "      <th>MgrMoney</th>\n",
       "      <th>MgrWant</th>\n",
       "      <th>JobSeek</th>\n",
       "      <th>LastHireDate</th>\n",
       "      <th>LastInt</th>\n",
       "      <th>FizzBuzz</th>\n",
       "      <th>JobFactors</th>\n",
       "      <th>ResumeUpdate</th>\n",
       "      <th>CurrencySymbol</th>\n",
       "      <th>CurrencyDesc</th>\n",
       "      <th>CompTotal</th>\n",
       "      <th>CompFreq</th>\n",
       "      <th>ConvertedComp</th>\n",
       "      <th>WorkWeekHrs</th>\n",
       "      <th>WorkPlan</th>\n",
       "      <th>WorkChallenge</th>\n",
       "      <th>WorkRemote</th>\n",
       "      <th>WorkLoc</th>\n",
       "      <th>ImpSyn</th>\n",
       "      <th>CodeRev</th>\n",
       "      <th>CodeRevHrs</th>\n",
       "      <th>UnitTests</th>\n",
       "      <th>PurchaseHow</th>\n",
       "      <th>PurchaseWhat</th>\n",
       "      <th>LanguageWorkedWith</th>\n",
       "      <th>LanguageDesireNextYear</th>\n",
       "      <th>DatabaseWorkedWith</th>\n",
       "      <th>DatabaseDesireNextYear</th>\n",
       "      <th>PlatformWorkedWith</th>\n",
       "      <th>PlatformDesireNextYear</th>\n",
       "      <th>WebFrameWorkedWith</th>\n",
       "      <th>WebFrameDesireNextYear</th>\n",
       "      <th>MiscTechWorkedWith</th>\n",
       "      <th>MiscTechDesireNextYear</th>\n",
       "      <th>DevEnviron</th>\n",
       "      <th>OpSys</th>\n",
       "      <th>Containers</th>\n",
       "      <th>BlockchainOrg</th>\n",
       "      <th>BlockchainIs</th>\n",
       "      <th>BetterLife</th>\n",
       "      <th>ITperson</th>\n",
       "      <th>OffOn</th>\n",
       "      <th>SocialMedia</th>\n",
       "      <th>Extraversion</th>\n",
       "      <th>ScreenName</th>\n",
       "      <th>SOVisit1st</th>\n",
       "      <th>SOVisitFreq</th>\n",
       "      <th>SOVisitTo</th>\n",
       "      <th>SOFindAnswer</th>\n",
       "      <th>SOTimeSaved</th>\n",
       "      <th>SOHowMuchTime</th>\n",
       "      <th>SOAccount</th>\n",
       "      <th>SOPartFreq</th>\n",
       "      <th>SOJobs</th>\n",
       "      <th>EntTeams</th>\n",
       "      <th>SOComm</th>\n",
       "      <th>WelcomeChange</th>\n",
       "      <th>SONewContent</th>\n",
       "      <th>Age</th>\n",
       "      <th>Gender</th>\n",
       "      <th>Trans</th>\n",
       "      <th>Sexuality</th>\n",
       "      <th>Ethnicity</th>\n",
       "      <th>Dependents</th>\n",
       "      <th>SurveyLength</th>\n",
       "      <th>SurveyEase</th>\n",
       "    </tr>\n",
       "  </thead>\n",
       "  <tbody>\n",
       "    <tr>\n",
       "      <th>0</th>\n",
       "      <td>1</td>\n",
       "      <td>I am a student who is learning to code</td>\n",
       "      <td>Yes</td>\n",
       "      <td>Never</td>\n",
       "      <td>The quality of OSS and closed source software ...</td>\n",
       "      <td>Not employed, and not looking for work</td>\n",
       "      <td>United Kingdom</td>\n",
       "      <td>No</td>\n",
       "      <td>Primary/elementary school</td>\n",
       "      <td>NaN</td>\n",
       "      <td>Taught yourself a new language, framework, or ...</td>\n",
       "      <td>NaN</td>\n",
       "      <td>NaN</td>\n",
       "      <td>4</td>\n",
       "      <td>10</td>\n",
       "      <td>NaN</td>\n",
       "      <td>NaN</td>\n",
       "      <td>NaN</td>\n",
       "      <td>NaN</td>\n",
       "      <td>NaN</td>\n",
       "      <td>NaN</td>\n",
       "      <td>NaN</td>\n",
       "      <td>NaN</td>\n",
       "      <td>NaN</td>\n",
       "      <td>NaN</td>\n",
       "      <td>NaN</td>\n",
       "      <td>NaN</td>\n",
       "      <td>NaN</td>\n",
       "      <td>NaN</td>\n",
       "      <td>NaN</td>\n",
       "      <td>NaN</td>\n",
       "      <td>NaN</td>\n",
       "      <td>NaN</td>\n",
       "      <td>NaN</td>\n",
       "      <td>NaN</td>\n",
       "      <td>NaN</td>\n",
       "      <td>NaN</td>\n",
       "      <td>NaN</td>\n",
       "      <td>NaN</td>\n",
       "      <td>NaN</td>\n",
       "      <td>NaN</td>\n",
       "      <td>NaN</td>\n",
       "      <td>NaN</td>\n",
       "      <td>HTML/CSS;Java;JavaScript;Python</td>\n",
       "      <td>C;C++;C#;Go;HTML/CSS;Java;JavaScript;Python;SQL</td>\n",
       "      <td>SQLite</td>\n",
       "      <td>MySQL</td>\n",
       "      <td>MacOS;Windows</td>\n",
       "      <td>Android;Arduino;Windows</td>\n",
       "      <td>Django;Flask</td>\n",
       "      <td>Flask;jQuery</td>\n",
       "      <td>Node.js</td>\n",
       "      <td>Node.js</td>\n",
       "      <td>IntelliJ;Notepad++;PyCharm</td>\n",
       "      <td>Windows</td>\n",
       "      <td>I do not use containers</td>\n",
       "      <td>NaN</td>\n",
       "      <td>NaN</td>\n",
       "      <td>Yes</td>\n",
       "      <td>Fortunately, someone else has that title</td>\n",
       "      <td>Yes</td>\n",
       "      <td>Twitter</td>\n",
       "      <td>Online</td>\n",
       "      <td>Username</td>\n",
       "      <td>2017</td>\n",
       "      <td>A few times per month or weekly</td>\n",
       "      <td>Find answers to specific questions;Learn how t...</td>\n",
       "      <td>3-5 times per week</td>\n",
       "      <td>Stack Overflow was much faster</td>\n",
       "      <td>31-60 minutes</td>\n",
       "      <td>No</td>\n",
       "      <td>NaN</td>\n",
       "      <td>No, I didn't know that Stack Overflow had a jo...</td>\n",
       "      <td>No, and I don't know what those are</td>\n",
       "      <td>Neutral</td>\n",
       "      <td>Just as welcome now as I felt last year</td>\n",
       "      <td>Tech articles written by other developers;Indu...</td>\n",
       "      <td>14.0</td>\n",
       "      <td>Man</td>\n",
       "      <td>No</td>\n",
       "      <td>Straight / Heterosexual</td>\n",
       "      <td>NaN</td>\n",
       "      <td>No</td>\n",
       "      <td>Appropriate in length</td>\n",
       "      <td>Neither easy nor difficult</td>\n",
       "    </tr>\n",
       "    <tr>\n",
       "      <th>1</th>\n",
       "      <td>2</td>\n",
       "      <td>I am a student who is learning to code</td>\n",
       "      <td>No</td>\n",
       "      <td>Less than once per year</td>\n",
       "      <td>The quality of OSS and closed source software ...</td>\n",
       "      <td>Not employed, but looking for work</td>\n",
       "      <td>Bosnia and Herzegovina</td>\n",
       "      <td>Yes, full-time</td>\n",
       "      <td>Secondary school (e.g. American high school, G...</td>\n",
       "      <td>NaN</td>\n",
       "      <td>Taken an online course in programming or softw...</td>\n",
       "      <td>NaN</td>\n",
       "      <td>Developer, desktop or enterprise applications;...</td>\n",
       "      <td>NaN</td>\n",
       "      <td>17</td>\n",
       "      <td>NaN</td>\n",
       "      <td>NaN</td>\n",
       "      <td>NaN</td>\n",
       "      <td>NaN</td>\n",
       "      <td>NaN</td>\n",
       "      <td>NaN</td>\n",
       "      <td>I am actively looking for a job</td>\n",
       "      <td>I've never had a job</td>\n",
       "      <td>NaN</td>\n",
       "      <td>NaN</td>\n",
       "      <td>Financial performance or funding status of the...</td>\n",
       "      <td>Something else changed (education, award, medi...</td>\n",
       "      <td>NaN</td>\n",
       "      <td>NaN</td>\n",
       "      <td>NaN</td>\n",
       "      <td>NaN</td>\n",
       "      <td>NaN</td>\n",
       "      <td>NaN</td>\n",
       "      <td>NaN</td>\n",
       "      <td>NaN</td>\n",
       "      <td>NaN</td>\n",
       "      <td>NaN</td>\n",
       "      <td>NaN</td>\n",
       "      <td>NaN</td>\n",
       "      <td>NaN</td>\n",
       "      <td>NaN</td>\n",
       "      <td>NaN</td>\n",
       "      <td>NaN</td>\n",
       "      <td>C++;HTML/CSS;Python</td>\n",
       "      <td>C++;HTML/CSS;JavaScript;SQL</td>\n",
       "      <td>NaN</td>\n",
       "      <td>MySQL</td>\n",
       "      <td>Windows</td>\n",
       "      <td>Windows</td>\n",
       "      <td>Django</td>\n",
       "      <td>Django</td>\n",
       "      <td>NaN</td>\n",
       "      <td>NaN</td>\n",
       "      <td>Atom;PyCharm</td>\n",
       "      <td>Windows</td>\n",
       "      <td>I do not use containers</td>\n",
       "      <td>NaN</td>\n",
       "      <td>Useful across many domains and could change ma...</td>\n",
       "      <td>Yes</td>\n",
       "      <td>Yes</td>\n",
       "      <td>Yes</td>\n",
       "      <td>Instagram</td>\n",
       "      <td>Online</td>\n",
       "      <td>Username</td>\n",
       "      <td>2017</td>\n",
       "      <td>Daily or almost daily</td>\n",
       "      <td>Find answers to specific questions;Learn how t...</td>\n",
       "      <td>3-5 times per week</td>\n",
       "      <td>Stack Overflow was much faster</td>\n",
       "      <td>11-30 minutes</td>\n",
       "      <td>Yes</td>\n",
       "      <td>A few times per month or weekly</td>\n",
       "      <td>No, I knew that Stack Overflow had a job board...</td>\n",
       "      <td>No, and I don't know what those are</td>\n",
       "      <td>Yes, somewhat</td>\n",
       "      <td>Just as welcome now as I felt last year</td>\n",
       "      <td>Tech articles written by other developers;Indu...</td>\n",
       "      <td>19.0</td>\n",
       "      <td>Man</td>\n",
       "      <td>No</td>\n",
       "      <td>Straight / Heterosexual</td>\n",
       "      <td>NaN</td>\n",
       "      <td>No</td>\n",
       "      <td>Appropriate in length</td>\n",
       "      <td>Neither easy nor difficult</td>\n",
       "    </tr>\n",
       "  </tbody>\n",
       "</table>\n",
       "</div>"
      ],
      "text/plain": [
       "   Respondent                              MainBranch Hobbyist  \\\n",
       "0           1  I am a student who is learning to code      Yes   \n",
       "1           2  I am a student who is learning to code       No   \n",
       "\n",
       "               OpenSourcer                                         OpenSource  \\\n",
       "0                    Never  The quality of OSS and closed source software ...   \n",
       "1  Less than once per year  The quality of OSS and closed source software ...   \n",
       "\n",
       "                               Employment                 Country  \\\n",
       "0  Not employed, and not looking for work          United Kingdom   \n",
       "1      Not employed, but looking for work  Bosnia and Herzegovina   \n",
       "\n",
       "          Student                                            EdLevel  \\\n",
       "0              No                          Primary/elementary school   \n",
       "1  Yes, full-time  Secondary school (e.g. American high school, G...   \n",
       "\n",
       "  UndergradMajor                                           EduOther OrgSize  \\\n",
       "0            NaN  Taught yourself a new language, framework, or ...     NaN   \n",
       "1            NaN  Taken an online course in programming or softw...     NaN   \n",
       "\n",
       "                                             DevType YearsCode Age1stCode  \\\n",
       "0                                                NaN         4         10   \n",
       "1  Developer, desktop or enterprise applications;...       NaN         17   \n",
       "\n",
       "  YearsCodePro CareerSat JobSat MgrIdiot MgrMoney MgrWant  \\\n",
       "0          NaN       NaN    NaN      NaN      NaN     NaN   \n",
       "1          NaN       NaN    NaN      NaN      NaN     NaN   \n",
       "\n",
       "                           JobSeek          LastHireDate LastInt FizzBuzz  \\\n",
       "0                              NaN                   NaN     NaN      NaN   \n",
       "1  I am actively looking for a job  I've never had a job     NaN      NaN   \n",
       "\n",
       "                                          JobFactors  \\\n",
       "0                                                NaN   \n",
       "1  Financial performance or funding status of the...   \n",
       "\n",
       "                                        ResumeUpdate CurrencySymbol  \\\n",
       "0                                                NaN            NaN   \n",
       "1  Something else changed (education, award, medi...            NaN   \n",
       "\n",
       "  CurrencyDesc  CompTotal CompFreq  ConvertedComp  WorkWeekHrs WorkPlan  \\\n",
       "0          NaN        NaN      NaN            NaN          NaN      NaN   \n",
       "1          NaN        NaN      NaN            NaN          NaN      NaN   \n",
       "\n",
       "  WorkChallenge WorkRemote WorkLoc ImpSyn CodeRev  CodeRevHrs UnitTests  \\\n",
       "0           NaN        NaN     NaN    NaN     NaN         NaN       NaN   \n",
       "1           NaN        NaN     NaN    NaN     NaN         NaN       NaN   \n",
       "\n",
       "  PurchaseHow PurchaseWhat               LanguageWorkedWith  \\\n",
       "0         NaN          NaN  HTML/CSS;Java;JavaScript;Python   \n",
       "1         NaN          NaN              C++;HTML/CSS;Python   \n",
       "\n",
       "                            LanguageDesireNextYear DatabaseWorkedWith  \\\n",
       "0  C;C++;C#;Go;HTML/CSS;Java;JavaScript;Python;SQL             SQLite   \n",
       "1                      C++;HTML/CSS;JavaScript;SQL                NaN   \n",
       "\n",
       "  DatabaseDesireNextYear PlatformWorkedWith   PlatformDesireNextYear  \\\n",
       "0                  MySQL      MacOS;Windows  Android;Arduino;Windows   \n",
       "1                  MySQL            Windows                  Windows   \n",
       "\n",
       "  WebFrameWorkedWith WebFrameDesireNextYear MiscTechWorkedWith  \\\n",
       "0       Django;Flask           Flask;jQuery            Node.js   \n",
       "1             Django                 Django                NaN   \n",
       "\n",
       "  MiscTechDesireNextYear                  DevEnviron    OpSys  \\\n",
       "0                Node.js  IntelliJ;Notepad++;PyCharm  Windows   \n",
       "1                    NaN                Atom;PyCharm  Windows   \n",
       "\n",
       "                Containers BlockchainOrg  \\\n",
       "0  I do not use containers           NaN   \n",
       "1  I do not use containers           NaN   \n",
       "\n",
       "                                        BlockchainIs BetterLife  \\\n",
       "0                                                NaN        Yes   \n",
       "1  Useful across many domains and could change ma...        Yes   \n",
       "\n",
       "                                   ITperson OffOn SocialMedia Extraversion  \\\n",
       "0  Fortunately, someone else has that title   Yes     Twitter       Online   \n",
       "1                                       Yes   Yes   Instagram       Online   \n",
       "\n",
       "  ScreenName SOVisit1st                      SOVisitFreq  \\\n",
       "0   Username       2017  A few times per month or weekly   \n",
       "1   Username       2017            Daily or almost daily   \n",
       "\n",
       "                                           SOVisitTo        SOFindAnswer  \\\n",
       "0  Find answers to specific questions;Learn how t...  3-5 times per week   \n",
       "1  Find answers to specific questions;Learn how t...  3-5 times per week   \n",
       "\n",
       "                      SOTimeSaved  SOHowMuchTime SOAccount  \\\n",
       "0  Stack Overflow was much faster  31-60 minutes        No   \n",
       "1  Stack Overflow was much faster  11-30 minutes       Yes   \n",
       "\n",
       "                        SOPartFreq  \\\n",
       "0                              NaN   \n",
       "1  A few times per month or weekly   \n",
       "\n",
       "                                              SOJobs  \\\n",
       "0  No, I didn't know that Stack Overflow had a jo...   \n",
       "1  No, I knew that Stack Overflow had a job board...   \n",
       "\n",
       "                              EntTeams         SOComm  \\\n",
       "0  No, and I don't know what those are        Neutral   \n",
       "1  No, and I don't know what those are  Yes, somewhat   \n",
       "\n",
       "                             WelcomeChange  \\\n",
       "0  Just as welcome now as I felt last year   \n",
       "1  Just as welcome now as I felt last year   \n",
       "\n",
       "                                        SONewContent   Age Gender Trans  \\\n",
       "0  Tech articles written by other developers;Indu...  14.0    Man    No   \n",
       "1  Tech articles written by other developers;Indu...  19.0    Man    No   \n",
       "\n",
       "                 Sexuality Ethnicity Dependents           SurveyLength  \\\n",
       "0  Straight / Heterosexual       NaN         No  Appropriate in length   \n",
       "1  Straight / Heterosexual       NaN         No  Appropriate in length   \n",
       "\n",
       "                   SurveyEase  \n",
       "0  Neither easy nor difficult  \n",
       "1  Neither easy nor difficult  "
      ]
     },
     "execution_count": 44,
     "metadata": {},
     "output_type": "execute_result"
    }
   ],
   "source": [
    "df.iloc[[0,1]]  # Will return a new data frame with the data of the first two rows."
   ]
  },
  {
   "cell_type": "markdown",
   "metadata": {},
   "source": [
    "You can also select columns of a given row adding a second component to de iloc function"
   ]
  },
  {
   "cell_type": "code",
   "execution_count": 46,
   "metadata": {},
   "outputs": [
    {
     "data": {
      "text/plain": [
       "0    Not employed, and not looking for work\n",
       "1        Not employed, but looking for work\n",
       "Name: Employment, dtype: object"
      ]
     },
     "execution_count": 46,
     "metadata": {},
     "output_type": "execute_result"
    }
   ],
   "source": [
    "df.iloc[[0,1],5]"
   ]
  },
  {
   "cell_type": "markdown",
   "metadata": {},
   "source": [
    "<strong> loc method - df.loc[\"\"] </strong>\n",
    "<p>\n",
    "This method use the labels of each row to acces them. The label of the row is the column you define as index, by default, this will we a numerical, self-created column at the left of the data frame.</p><p> You also can select multiple one or multiple rows as made before with the columns. Be aware that for one row will return a series and for multiple, a new dataframe.\n",
    "    </p>"
   ]
  },
  {
   "cell_type": "code",
   "execution_count": 51,
   "metadata": {},
   "outputs": [
    {
     "data": {
      "text/html": [
       "<div>\n",
       "<style scoped>\n",
       "    .dataframe tbody tr th:only-of-type {\n",
       "        vertical-align: middle;\n",
       "    }\n",
       "\n",
       "    .dataframe tbody tr th {\n",
       "        vertical-align: top;\n",
       "    }\n",
       "\n",
       "    .dataframe thead th {\n",
       "        text-align: right;\n",
       "    }\n",
       "</style>\n",
       "<table border=\"1\" class=\"dataframe\">\n",
       "  <thead>\n",
       "    <tr style=\"text-align: right;\">\n",
       "      <th></th>\n",
       "      <th>Employment</th>\n",
       "      <th>Country</th>\n",
       "    </tr>\n",
       "  </thead>\n",
       "  <tbody>\n",
       "    <tr>\n",
       "      <th>0</th>\n",
       "      <td>Not employed, and not looking for work</td>\n",
       "      <td>United Kingdom</td>\n",
       "    </tr>\n",
       "    <tr>\n",
       "      <th>1</th>\n",
       "      <td>Not employed, but looking for work</td>\n",
       "      <td>Bosnia and Herzegovina</td>\n",
       "    </tr>\n",
       "  </tbody>\n",
       "</table>\n",
       "</div>"
      ],
      "text/plain": [
       "                               Employment                 Country\n",
       "0  Not employed, and not looking for work          United Kingdom\n",
       "1      Not employed, but looking for work  Bosnia and Herzegovina"
      ]
     },
     "execution_count": 51,
     "metadata": {},
     "output_type": "execute_result"
    }
   ],
   "source": [
    "df.loc[[0,1],[\"Employment\",\"Country\"]]"
   ]
  },
  {
   "cell_type": "markdown",
   "metadata": {},
   "source": [
    "Additionally, you can use slicing to get a nº of column and rows needed."
   ]
  },
  {
   "cell_type": "code",
   "execution_count": 13,
   "metadata": {},
   "outputs": [
    {
     "data": {
      "text/html": [
       "<div>\n",
       "<style scoped>\n",
       "    .dataframe tbody tr th:only-of-type {\n",
       "        vertical-align: middle;\n",
       "    }\n",
       "\n",
       "    .dataframe tbody tr th {\n",
       "        vertical-align: top;\n",
       "    }\n",
       "\n",
       "    .dataframe thead th {\n",
       "        text-align: right;\n",
       "    }\n",
       "</style>\n",
       "<table border=\"1\" class=\"dataframe\">\n",
       "  <thead>\n",
       "    <tr style=\"text-align: right;\">\n",
       "      <th></th>\n",
       "      <th>Hobbyist</th>\n",
       "      <th>OpenSourcer</th>\n",
       "      <th>OpenSource</th>\n",
       "      <th>Employment</th>\n",
       "    </tr>\n",
       "  </thead>\n",
       "  <tbody>\n",
       "    <tr>\n",
       "      <th>0</th>\n",
       "      <td>Yes</td>\n",
       "      <td>Never</td>\n",
       "      <td>The quality of OSS and closed source software ...</td>\n",
       "      <td>Not employed, and not looking for work</td>\n",
       "    </tr>\n",
       "    <tr>\n",
       "      <th>1</th>\n",
       "      <td>No</td>\n",
       "      <td>Less than once per year</td>\n",
       "      <td>The quality of OSS and closed source software ...</td>\n",
       "      <td>Not employed, but looking for work</td>\n",
       "    </tr>\n",
       "    <tr>\n",
       "      <th>2</th>\n",
       "      <td>Yes</td>\n",
       "      <td>Never</td>\n",
       "      <td>The quality of OSS and closed source software ...</td>\n",
       "      <td>Employed full-time</td>\n",
       "    </tr>\n",
       "  </tbody>\n",
       "</table>\n",
       "</div>"
      ],
      "text/plain": [
       "  Hobbyist              OpenSourcer  \\\n",
       "0      Yes                    Never   \n",
       "1       No  Less than once per year   \n",
       "2      Yes                    Never   \n",
       "\n",
       "                                          OpenSource  \\\n",
       "0  The quality of OSS and closed source software ...   \n",
       "1  The quality of OSS and closed source software ...   \n",
       "2  The quality of OSS and closed source software ...   \n",
       "\n",
       "                               Employment  \n",
       "0  Not employed, and not looking for work  \n",
       "1      Not employed, but looking for work  \n",
       "2                      Employed full-time  "
      ]
     },
     "execution_count": 13,
     "metadata": {},
     "output_type": "execute_result"
    }
   ],
   "source": [
    "df.loc[0:2,\"Hobbyist\":\"Employment\"]"
   ]
  },
  {
   "cell_type": "markdown",
   "metadata": {},
   "source": [
    "<h2><strong>\n",
    "    Indexes</strong>\n",
    "    </h2>"
   ]
  },
  {
   "cell_type": "markdown",
   "metadata": {},
   "source": [
    "<p>As stated before, an index is the label of each row. Usually it's easy to acces to specific data using that label, but on default that label is the nº in order of each row. With pandas, using <strong>df.set_index(\"\")</strong> you can change the index to the column of interest.</p>\n",
    "<p>If not stated, the change won't be saved in our data frame. To do so, you need the element <strong> inplace = True</strong> to save the changes.</p>\n"
   ]
  },
  {
   "cell_type": "code",
   "execution_count": 17,
   "metadata": {},
   "outputs": [],
   "source": [
    "df.set_index(\"Respondent\", inplace = True)"
   ]
  },
  {
   "cell_type": "markdown",
   "metadata": {},
   "source": [
    "<p>Once changed, it's easy to see what is the data frame's index using <strong>df.index</strong>.</p>"
   ]
  },
  {
   "cell_type": "code",
   "execution_count": 18,
   "metadata": {},
   "outputs": [
    {
     "data": {
      "text/plain": [
       "Int64Index([   1,    2,    3,    4,    5,    6,    7,    8,    9,   10,\n",
       "            ...\n",
       "            3307, 3308, 3309, 3310, 3311, 3312, 3313, 3314, 3315, 3316],\n",
       "           dtype='int64', name='Respondent', length=3303)"
      ]
     },
     "execution_count": 18,
     "metadata": {},
     "output_type": "execute_result"
    }
   ],
   "source": [
    "df.index"
   ]
  },
  {
   "cell_type": "markdown",
   "metadata": {},
   "source": [
    "To reset the index, use the command <strong>df.reset_index(inplace=True)</strong>."
   ]
  },
  {
   "cell_type": "code",
   "execution_count": null,
   "metadata": {},
   "outputs": [],
   "source": [
    "df.reset_index(inplace=True)\n",
    "df.head(2)"
   ]
  },
  {
   "cell_type": "markdown",
   "metadata": {},
   "source": [
    "<p>If you know your data frame in advance, you can add the argument <strong>index_col=\"insert_column\"</strong> to the pd.read_csv command.</p>\n",
    "<p>Using this method it's easier to acces data in the data frame. As an example, what is the meaning of MgrIdiot column? With .loc method on the df_schema it's easy to acces the data we are looking for."
   ]
  },
  {
   "cell_type": "code",
   "execution_count": 25,
   "metadata": {},
   "outputs": [
    {
     "data": {
      "text/plain": [
       "'How confident are you that your manager knows what they’re doing?'"
      ]
     },
     "execution_count": 25,
     "metadata": {},
     "output_type": "execute_result"
    }
   ],
   "source": [
    "df_schema.loc[\"MgrIdiot\",\"QuestionText\"]"
   ]
  },
  {
   "cell_type": "markdown",
   "metadata": {},
   "source": [
    "You can sort your index easily using <strong>df.sort_index()</strong>. The output is by default in alphaetical order. You can add the argument <strong> ascending = False </strong> to get the inverted list.</p>\n",
    "<p> Remember to use inplace = True if you want to save the changes."
   ]
  },
  {
   "cell_type": "code",
   "execution_count": null,
   "metadata": {},
   "outputs": [],
   "source": [
    "df_schema.sort_index(inplace=True)\n",
    "df_schema"
   ]
  },
  {
   "cell_type": "code",
   "execution_count": 39,
   "metadata": {},
   "outputs": [
    {
     "data": {
      "text/html": [
       "<div>\n",
       "<style scoped>\n",
       "    .dataframe tbody tr th:only-of-type {\n",
       "        vertical-align: middle;\n",
       "    }\n",
       "\n",
       "    .dataframe tbody tr th {\n",
       "        vertical-align: top;\n",
       "    }\n",
       "\n",
       "    .dataframe thead th {\n",
       "        text-align: right;\n",
       "    }\n",
       "</style>\n",
       "<table border=\"1\" class=\"dataframe\">\n",
       "  <thead>\n",
       "    <tr style=\"text-align: right;\">\n",
       "      <th></th>\n",
       "      <th>MainBranch</th>\n",
       "      <th>Hobbyist</th>\n",
       "      <th>OpenSourcer</th>\n",
       "      <th>OpenSource</th>\n",
       "      <th>Employment</th>\n",
       "      <th>Country</th>\n",
       "      <th>Student</th>\n",
       "      <th>EdLevel</th>\n",
       "      <th>UndergradMajor</th>\n",
       "      <th>EduOther</th>\n",
       "      <th>OrgSize</th>\n",
       "      <th>DevType</th>\n",
       "      <th>YearsCode</th>\n",
       "      <th>Age1stCode</th>\n",
       "      <th>YearsCodePro</th>\n",
       "      <th>CareerSat</th>\n",
       "      <th>JobSat</th>\n",
       "      <th>MgrIdiot</th>\n",
       "      <th>MgrMoney</th>\n",
       "      <th>MgrWant</th>\n",
       "      <th>JobSeek</th>\n",
       "      <th>LastHireDate</th>\n",
       "      <th>LastInt</th>\n",
       "      <th>FizzBuzz</th>\n",
       "      <th>JobFactors</th>\n",
       "      <th>ResumeUpdate</th>\n",
       "      <th>CurrencySymbol</th>\n",
       "      <th>CurrencyDesc</th>\n",
       "      <th>CompTotal</th>\n",
       "      <th>CompFreq</th>\n",
       "      <th>ConvertedComp</th>\n",
       "      <th>WorkWeekHrs</th>\n",
       "      <th>WorkPlan</th>\n",
       "      <th>WorkChallenge</th>\n",
       "      <th>WorkRemote</th>\n",
       "      <th>WorkLoc</th>\n",
       "      <th>ImpSyn</th>\n",
       "      <th>CodeRev</th>\n",
       "      <th>CodeRevHrs</th>\n",
       "      <th>UnitTests</th>\n",
       "      <th>PurchaseHow</th>\n",
       "      <th>PurchaseWhat</th>\n",
       "      <th>LanguageWorkedWith</th>\n",
       "      <th>LanguageDesireNextYear</th>\n",
       "      <th>DatabaseWorkedWith</th>\n",
       "      <th>DatabaseDesireNextYear</th>\n",
       "      <th>PlatformWorkedWith</th>\n",
       "      <th>PlatformDesireNextYear</th>\n",
       "      <th>WebFrameWorkedWith</th>\n",
       "      <th>WebFrameDesireNextYear</th>\n",
       "      <th>MiscTechWorkedWith</th>\n",
       "      <th>MiscTechDesireNextYear</th>\n",
       "      <th>DevEnviron</th>\n",
       "      <th>OpSys</th>\n",
       "      <th>Containers</th>\n",
       "      <th>BlockchainOrg</th>\n",
       "      <th>BlockchainIs</th>\n",
       "      <th>BetterLife</th>\n",
       "      <th>ITperson</th>\n",
       "      <th>OffOn</th>\n",
       "      <th>SocialMedia</th>\n",
       "      <th>Extraversion</th>\n",
       "      <th>ScreenName</th>\n",
       "      <th>SOVisit1st</th>\n",
       "      <th>SOVisitFreq</th>\n",
       "      <th>SOVisitTo</th>\n",
       "      <th>SOFindAnswer</th>\n",
       "      <th>SOTimeSaved</th>\n",
       "      <th>SOHowMuchTime</th>\n",
       "      <th>SOAccount</th>\n",
       "      <th>SOPartFreq</th>\n",
       "      <th>SOJobs</th>\n",
       "      <th>EntTeams</th>\n",
       "      <th>SOComm</th>\n",
       "      <th>WelcomeChange</th>\n",
       "      <th>SONewContent</th>\n",
       "      <th>Age</th>\n",
       "      <th>Gender</th>\n",
       "      <th>Trans</th>\n",
       "      <th>Sexuality</th>\n",
       "      <th>Ethnicity</th>\n",
       "      <th>Dependents</th>\n",
       "      <th>SurveyLength</th>\n",
       "      <th>SurveyEase</th>\n",
       "    </tr>\n",
       "    <tr>\n",
       "      <th>Respondent</th>\n",
       "      <th></th>\n",
       "      <th></th>\n",
       "      <th></th>\n",
       "      <th></th>\n",
       "      <th></th>\n",
       "      <th></th>\n",
       "      <th></th>\n",
       "      <th></th>\n",
       "      <th></th>\n",
       "      <th></th>\n",
       "      <th></th>\n",
       "      <th></th>\n",
       "      <th></th>\n",
       "      <th></th>\n",
       "      <th></th>\n",
       "      <th></th>\n",
       "      <th></th>\n",
       "      <th></th>\n",
       "      <th></th>\n",
       "      <th></th>\n",
       "      <th></th>\n",
       "      <th></th>\n",
       "      <th></th>\n",
       "      <th></th>\n",
       "      <th></th>\n",
       "      <th></th>\n",
       "      <th></th>\n",
       "      <th></th>\n",
       "      <th></th>\n",
       "      <th></th>\n",
       "      <th></th>\n",
       "      <th></th>\n",
       "      <th></th>\n",
       "      <th></th>\n",
       "      <th></th>\n",
       "      <th></th>\n",
       "      <th></th>\n",
       "      <th></th>\n",
       "      <th></th>\n",
       "      <th></th>\n",
       "      <th></th>\n",
       "      <th></th>\n",
       "      <th></th>\n",
       "      <th></th>\n",
       "      <th></th>\n",
       "      <th></th>\n",
       "      <th></th>\n",
       "      <th></th>\n",
       "      <th></th>\n",
       "      <th></th>\n",
       "      <th></th>\n",
       "      <th></th>\n",
       "      <th></th>\n",
       "      <th></th>\n",
       "      <th></th>\n",
       "      <th></th>\n",
       "      <th></th>\n",
       "      <th></th>\n",
       "      <th></th>\n",
       "      <th></th>\n",
       "      <th></th>\n",
       "      <th></th>\n",
       "      <th></th>\n",
       "      <th></th>\n",
       "      <th></th>\n",
       "      <th></th>\n",
       "      <th></th>\n",
       "      <th></th>\n",
       "      <th></th>\n",
       "      <th></th>\n",
       "      <th></th>\n",
       "      <th></th>\n",
       "      <th></th>\n",
       "      <th></th>\n",
       "      <th></th>\n",
       "      <th></th>\n",
       "      <th></th>\n",
       "      <th></th>\n",
       "      <th></th>\n",
       "      <th></th>\n",
       "      <th></th>\n",
       "      <th></th>\n",
       "      <th></th>\n",
       "      <th></th>\n",
       "    </tr>\n",
       "  </thead>\n",
       "  <tbody>\n",
       "    <tr>\n",
       "      <th>1</th>\n",
       "      <td>I am a student who is learning to code</td>\n",
       "      <td>Yes</td>\n",
       "      <td>Never</td>\n",
       "      <td>The quality of OSS and closed source software ...</td>\n",
       "      <td>Not employed, and not looking for work</td>\n",
       "      <td>United Kingdom</td>\n",
       "      <td>No</td>\n",
       "      <td>Primary/elementary school</td>\n",
       "      <td>NaN</td>\n",
       "      <td>Taught yourself a new language, framework, or ...</td>\n",
       "      <td>NaN</td>\n",
       "      <td>NaN</td>\n",
       "      <td>4</td>\n",
       "      <td>10</td>\n",
       "      <td>NaN</td>\n",
       "      <td>NaN</td>\n",
       "      <td>NaN</td>\n",
       "      <td>NaN</td>\n",
       "      <td>NaN</td>\n",
       "      <td>NaN</td>\n",
       "      <td>NaN</td>\n",
       "      <td>NaN</td>\n",
       "      <td>NaN</td>\n",
       "      <td>NaN</td>\n",
       "      <td>NaN</td>\n",
       "      <td>NaN</td>\n",
       "      <td>NaN</td>\n",
       "      <td>NaN</td>\n",
       "      <td>NaN</td>\n",
       "      <td>NaN</td>\n",
       "      <td>NaN</td>\n",
       "      <td>NaN</td>\n",
       "      <td>NaN</td>\n",
       "      <td>NaN</td>\n",
       "      <td>NaN</td>\n",
       "      <td>NaN</td>\n",
       "      <td>NaN</td>\n",
       "      <td>NaN</td>\n",
       "      <td>NaN</td>\n",
       "      <td>NaN</td>\n",
       "      <td>NaN</td>\n",
       "      <td>NaN</td>\n",
       "      <td>HTML/CSS;Java;JavaScript;Python</td>\n",
       "      <td>C;C++;C#;Go;HTML/CSS;Java;JavaScript;Python;SQL</td>\n",
       "      <td>SQLite</td>\n",
       "      <td>MySQL</td>\n",
       "      <td>MacOS;Windows</td>\n",
       "      <td>Android;Arduino;Windows</td>\n",
       "      <td>Django;Flask</td>\n",
       "      <td>Flask;jQuery</td>\n",
       "      <td>Node.js</td>\n",
       "      <td>Node.js</td>\n",
       "      <td>IntelliJ;Notepad++;PyCharm</td>\n",
       "      <td>Windows</td>\n",
       "      <td>I do not use containers</td>\n",
       "      <td>NaN</td>\n",
       "      <td>NaN</td>\n",
       "      <td>Yes</td>\n",
       "      <td>Fortunately, someone else has that title</td>\n",
       "      <td>Yes</td>\n",
       "      <td>Twitter</td>\n",
       "      <td>Online</td>\n",
       "      <td>Username</td>\n",
       "      <td>2017</td>\n",
       "      <td>A few times per month or weekly</td>\n",
       "      <td>Find answers to specific questions;Learn how t...</td>\n",
       "      <td>3-5 times per week</td>\n",
       "      <td>Stack Overflow was much faster</td>\n",
       "      <td>31-60 minutes</td>\n",
       "      <td>No</td>\n",
       "      <td>NaN</td>\n",
       "      <td>No, I didn't know that Stack Overflow had a jo...</td>\n",
       "      <td>No, and I don't know what those are</td>\n",
       "      <td>Neutral</td>\n",
       "      <td>Just as welcome now as I felt last year</td>\n",
       "      <td>Tech articles written by other developers;Indu...</td>\n",
       "      <td>14.0</td>\n",
       "      <td>Man</td>\n",
       "      <td>No</td>\n",
       "      <td>Straight / Heterosexual</td>\n",
       "      <td>NaN</td>\n",
       "      <td>No</td>\n",
       "      <td>Appropriate in length</td>\n",
       "      <td>Neither easy nor difficult</td>\n",
       "    </tr>\n",
       "  </tbody>\n",
       "</table>\n",
       "</div>"
      ],
      "text/plain": [
       "                                        MainBranch Hobbyist OpenSourcer  \\\n",
       "Respondent                                                                \n",
       "1           I am a student who is learning to code      Yes       Never   \n",
       "\n",
       "                                                   OpenSource  \\\n",
       "Respondent                                                      \n",
       "1           The quality of OSS and closed source software ...   \n",
       "\n",
       "                                        Employment         Country Student  \\\n",
       "Respondent                                                                   \n",
       "1           Not employed, and not looking for work  United Kingdom      No   \n",
       "\n",
       "                              EdLevel UndergradMajor  \\\n",
       "Respondent                                             \n",
       "1           Primary/elementary school            NaN   \n",
       "\n",
       "                                                     EduOther OrgSize DevType  \\\n",
       "Respondent                                                                      \n",
       "1           Taught yourself a new language, framework, or ...     NaN     NaN   \n",
       "\n",
       "           YearsCode Age1stCode YearsCodePro CareerSat JobSat MgrIdiot  \\\n",
       "Respondent                                                               \n",
       "1                  4         10          NaN       NaN    NaN      NaN   \n",
       "\n",
       "           MgrMoney MgrWant JobSeek LastHireDate LastInt FizzBuzz JobFactors  \\\n",
       "Respondent                                                                     \n",
       "1               NaN     NaN     NaN          NaN     NaN      NaN        NaN   \n",
       "\n",
       "           ResumeUpdate CurrencySymbol CurrencyDesc  CompTotal CompFreq  \\\n",
       "Respondent                                                                \n",
       "1                   NaN            NaN          NaN        NaN      NaN   \n",
       "\n",
       "            ConvertedComp  WorkWeekHrs WorkPlan WorkChallenge WorkRemote  \\\n",
       "Respondent                                                                 \n",
       "1                     NaN          NaN      NaN           NaN        NaN   \n",
       "\n",
       "           WorkLoc ImpSyn CodeRev  CodeRevHrs UnitTests PurchaseHow  \\\n",
       "Respondent                                                            \n",
       "1              NaN    NaN     NaN         NaN       NaN         NaN   \n",
       "\n",
       "           PurchaseWhat               LanguageWorkedWith  \\\n",
       "Respondent                                                 \n",
       "1                   NaN  HTML/CSS;Java;JavaScript;Python   \n",
       "\n",
       "                                     LanguageDesireNextYear  \\\n",
       "Respondent                                                    \n",
       "1           C;C++;C#;Go;HTML/CSS;Java;JavaScript;Python;SQL   \n",
       "\n",
       "           DatabaseWorkedWith DatabaseDesireNextYear PlatformWorkedWith  \\\n",
       "Respondent                                                                \n",
       "1                      SQLite                  MySQL      MacOS;Windows   \n",
       "\n",
       "             PlatformDesireNextYear WebFrameWorkedWith WebFrameDesireNextYear  \\\n",
       "Respondent                                                                      \n",
       "1           Android;Arduino;Windows       Django;Flask           Flask;jQuery   \n",
       "\n",
       "           MiscTechWorkedWith MiscTechDesireNextYear  \\\n",
       "Respondent                                             \n",
       "1                     Node.js                Node.js   \n",
       "\n",
       "                            DevEnviron    OpSys               Containers  \\\n",
       "Respondent                                                                 \n",
       "1           IntelliJ;Notepad++;PyCharm  Windows  I do not use containers   \n",
       "\n",
       "           BlockchainOrg BlockchainIs BetterLife  \\\n",
       "Respondent                                         \n",
       "1                    NaN          NaN        Yes   \n",
       "\n",
       "                                            ITperson OffOn SocialMedia  \\\n",
       "Respondent                                                               \n",
       "1           Fortunately, someone else has that title   Yes     Twitter   \n",
       "\n",
       "           Extraversion ScreenName SOVisit1st  \\\n",
       "Respondent                                      \n",
       "1                Online   Username       2017   \n",
       "\n",
       "                                SOVisitFreq  \\\n",
       "Respondent                                    \n",
       "1           A few times per month or weekly   \n",
       "\n",
       "                                                    SOVisitTo  \\\n",
       "Respondent                                                      \n",
       "1           Find answers to specific questions;Learn how t...   \n",
       "\n",
       "                  SOFindAnswer                     SOTimeSaved  SOHowMuchTime  \\\n",
       "Respondent                                                                      \n",
       "1           3-5 times per week  Stack Overflow was much faster  31-60 minutes   \n",
       "\n",
       "           SOAccount SOPartFreq  \\\n",
       "Respondent                        \n",
       "1                 No        NaN   \n",
       "\n",
       "                                                       SOJobs  \\\n",
       "Respondent                                                      \n",
       "1           No, I didn't know that Stack Overflow had a jo...   \n",
       "\n",
       "                                       EntTeams   SOComm  \\\n",
       "Respondent                                                 \n",
       "1           No, and I don't know what those are  Neutral   \n",
       "\n",
       "                                      WelcomeChange  \\\n",
       "Respondent                                            \n",
       "1           Just as welcome now as I felt last year   \n",
       "\n",
       "                                                 SONewContent   Age Gender  \\\n",
       "Respondent                                                                   \n",
       "1           Tech articles written by other developers;Indu...  14.0    Man   \n",
       "\n",
       "           Trans                Sexuality Ethnicity Dependents  \\\n",
       "Respondent                                                       \n",
       "1             No  Straight / Heterosexual       NaN         No   \n",
       "\n",
       "                     SurveyLength                  SurveyEase  \n",
       "Respondent                                                     \n",
       "1           Appropriate in length  Neither easy nor difficult  "
      ]
     },
     "execution_count": 39,
     "metadata": {},
     "output_type": "execute_result"
    }
   ],
   "source": [
    "df.head(1)"
   ]
  },
  {
   "cell_type": "markdown",
   "metadata": {},
   "source": [
    "<h2><strong>\n",
    "    Filtering Data</strong>\n",
    "    </h2>"
   ]
  },
  {
   "cell_type": "markdown",
   "metadata": {},
   "source": [
    "<p>Filtering data is important to make efficient analysis in extensive data frames. The quickest way to do it is applying the command <strong> df[\"column\"] == \"condition\"</strong>. The output is a series with boolean types.</p>\n",
    "<p> For usage, it's usefull to put the filter as a variable to be able to use directly:</p>"
   ]
  },
  {
   "cell_type": "code",
   "execution_count": null,
   "metadata": {},
   "outputs": [],
   "source": [
    "filt_country = (df[\"Country\"] == \"United Kingdom\")\n",
    "df[filt_country].head()"
   ]
  },
  {
   "cell_type": "markdown",
   "metadata": {},
   "source": [
    "Another way to use it is with <strong> .loc</strong> method which can use booleans variable as arguments. Using .loc could be a little confusing at first, but it allows to filter and select columns with a single line of code."
   ]
  },
  {
   "cell_type": "code",
   "execution_count": 50,
   "metadata": {},
   "outputs": [
    {
     "data": {
      "text/html": [
       "<div>\n",
       "<style scoped>\n",
       "    .dataframe tbody tr th:only-of-type {\n",
       "        vertical-align: middle;\n",
       "    }\n",
       "\n",
       "    .dataframe tbody tr th {\n",
       "        vertical-align: top;\n",
       "    }\n",
       "\n",
       "    .dataframe thead th {\n",
       "        text-align: right;\n",
       "    }\n",
       "</style>\n",
       "<table border=\"1\" class=\"dataframe\">\n",
       "  <thead>\n",
       "    <tr style=\"text-align: right;\">\n",
       "      <th></th>\n",
       "      <th>Hobbyist</th>\n",
       "      <th>Employment</th>\n",
       "    </tr>\n",
       "    <tr>\n",
       "      <th>Respondent</th>\n",
       "      <th></th>\n",
       "      <th></th>\n",
       "    </tr>\n",
       "  </thead>\n",
       "  <tbody>\n",
       "    <tr>\n",
       "      <th>1</th>\n",
       "      <td>Yes</td>\n",
       "      <td>Not employed, and not looking for work</td>\n",
       "    </tr>\n",
       "    <tr>\n",
       "      <th>16</th>\n",
       "      <td>Yes</td>\n",
       "      <td>Employed full-time</td>\n",
       "    </tr>\n",
       "    <tr>\n",
       "      <th>76</th>\n",
       "      <td>No</td>\n",
       "      <td>Employed full-time</td>\n",
       "    </tr>\n",
       "    <tr>\n",
       "      <th>80</th>\n",
       "      <td>Yes</td>\n",
       "      <td>Employed full-time</td>\n",
       "    </tr>\n",
       "    <tr>\n",
       "      <th>82</th>\n",
       "      <td>Yes</td>\n",
       "      <td>Employed full-time</td>\n",
       "    </tr>\n",
       "  </tbody>\n",
       "</table>\n",
       "</div>"
      ],
      "text/plain": [
       "           Hobbyist                              Employment\n",
       "Respondent                                                 \n",
       "1               Yes  Not employed, and not looking for work\n",
       "16              Yes                      Employed full-time\n",
       "76               No                      Employed full-time\n",
       "80              Yes                      Employed full-time\n",
       "82              Yes                      Employed full-time"
      ]
     },
     "execution_count": 50,
     "metadata": {},
     "output_type": "execute_result"
    }
   ],
   "source": [
    "df.loc[filt_country,[\"Hobbyist\",\"Employment\"]].head()"
   ]
  },
  {
   "cell_type": "markdown",
   "metadata": {},
   "source": [
    "<h3> And - Or method</h3>"
   ]
  },
  {
   "cell_type": "markdown",
   "metadata": {},
   "source": [
    "There is another way to filter data using the and <strong>( & )</strong> - or <strong>( | )</strong> commands."
   ]
  },
  {
   "cell_type": "code",
   "execution_count": null,
   "metadata": {},
   "outputs": [],
   "source": [
    "filt_country = (df[\"Country\"] == \"United Kingdom\") & (df[\"Hobbyist\"] == \"Yes\")\n",
    "df[filt_country].head()"
   ]
  },
  {
   "cell_type": "code",
   "execution_count": null,
   "metadata": {},
   "outputs": [],
   "source": [
    "filt_country = (df[\"Country\"] == \"United Kingdom\") | (df[\"Hobbyist\"] == \"Yes\")\n",
    "df[filt_country].head()"
   ]
  },
  {
   "cell_type": "markdown",
   "metadata": {},
   "source": [
    "You can us the element <srtong> ~ </strong> to negate the filter. In that case, the output will show all the peoplefrom outside of United Kingdom."
   ]
  },
  {
   "cell_type": "code",
   "execution_count": 56,
   "metadata": {},
   "outputs": [
    {
     "data": {
      "text/html": [
       "<div>\n",
       "<style scoped>\n",
       "    .dataframe tbody tr th:only-of-type {\n",
       "        vertical-align: middle;\n",
       "    }\n",
       "\n",
       "    .dataframe tbody tr th {\n",
       "        vertical-align: top;\n",
       "    }\n",
       "\n",
       "    .dataframe thead th {\n",
       "        text-align: right;\n",
       "    }\n",
       "</style>\n",
       "<table border=\"1\" class=\"dataframe\">\n",
       "  <thead>\n",
       "    <tr style=\"text-align: right;\">\n",
       "      <th></th>\n",
       "      <th>Hobbyist</th>\n",
       "      <th>Employment</th>\n",
       "    </tr>\n",
       "    <tr>\n",
       "      <th>Respondent</th>\n",
       "      <th></th>\n",
       "      <th></th>\n",
       "    </tr>\n",
       "  </thead>\n",
       "  <tbody>\n",
       "    <tr>\n",
       "      <th>2</th>\n",
       "      <td>No</td>\n",
       "      <td>Not employed, but looking for work</td>\n",
       "    </tr>\n",
       "    <tr>\n",
       "      <th>3</th>\n",
       "      <td>Yes</td>\n",
       "      <td>Employed full-time</td>\n",
       "    </tr>\n",
       "    <tr>\n",
       "      <th>4</th>\n",
       "      <td>No</td>\n",
       "      <td>Employed full-time</td>\n",
       "    </tr>\n",
       "    <tr>\n",
       "      <th>5</th>\n",
       "      <td>Yes</td>\n",
       "      <td>Employed full-time</td>\n",
       "    </tr>\n",
       "    <tr>\n",
       "      <th>6</th>\n",
       "      <td>Yes</td>\n",
       "      <td>Employed full-time</td>\n",
       "    </tr>\n",
       "  </tbody>\n",
       "</table>\n",
       "</div>"
      ],
      "text/plain": [
       "           Hobbyist                          Employment\n",
       "Respondent                                             \n",
       "2                No  Not employed, but looking for work\n",
       "3               Yes                  Employed full-time\n",
       "4                No                  Employed full-time\n",
       "5               Yes                  Employed full-time\n",
       "6               Yes                  Employed full-time"
      ]
     },
     "execution_count": 56,
     "metadata": {},
     "output_type": "execute_result"
    }
   ],
   "source": [
    "df.loc[~filt_country,[\"Hobbyist\",\"Employment\"]].head()"
   ]
  },
  {
   "cell_type": "markdown",
   "metadata": {},
   "source": [
    "<strong> Example:</strong> Filter by salary and shoow only salary, country and programing."
   ]
  },
  {
   "cell_type": "code",
   "execution_count": 59,
   "metadata": {},
   "outputs": [
    {
     "data": {
      "text/html": [
       "<div>\n",
       "<style scoped>\n",
       "    .dataframe tbody tr th:only-of-type {\n",
       "        vertical-align: middle;\n",
       "    }\n",
       "\n",
       "    .dataframe tbody tr th {\n",
       "        vertical-align: top;\n",
       "    }\n",
       "\n",
       "    .dataframe thead th {\n",
       "        text-align: right;\n",
       "    }\n",
       "</style>\n",
       "<table border=\"1\" class=\"dataframe\">\n",
       "  <thead>\n",
       "    <tr style=\"text-align: right;\">\n",
       "      <th></th>\n",
       "      <th>Country</th>\n",
       "      <th>LanguageWorkedWith</th>\n",
       "      <th>ConvertedComp</th>\n",
       "    </tr>\n",
       "    <tr>\n",
       "      <th>Respondent</th>\n",
       "      <th></th>\n",
       "      <th></th>\n",
       "      <th></th>\n",
       "    </tr>\n",
       "  </thead>\n",
       "  <tbody>\n",
       "    <tr>\n",
       "      <th>3</th>\n",
       "      <td>Thailand</td>\n",
       "      <td>HTML/CSS</td>\n",
       "      <td>8820.0</td>\n",
       "    </tr>\n",
       "    <tr>\n",
       "      <th>4</th>\n",
       "      <td>United States</td>\n",
       "      <td>C;C++;C#;Python;SQL</td>\n",
       "      <td>61000.0</td>\n",
       "    </tr>\n",
       "    <tr>\n",
       "      <th>6</th>\n",
       "      <td>Canada</td>\n",
       "      <td>Java;R;SQL</td>\n",
       "      <td>366420.0</td>\n",
       "    </tr>\n",
       "    <tr>\n",
       "      <th>9</th>\n",
       "      <td>New Zealand</td>\n",
       "      <td>Bash/Shell/PowerShell;C#;HTML/CSS;JavaScript;P...</td>\n",
       "      <td>95179.0</td>\n",
       "    </tr>\n",
       "    <tr>\n",
       "      <th>10</th>\n",
       "      <td>India</td>\n",
       "      <td>C#;Go;JavaScript;Python;R;SQL</td>\n",
       "      <td>13293.0</td>\n",
       "    </tr>\n",
       "    <tr>\n",
       "      <th>...</th>\n",
       "      <td>...</td>\n",
       "      <td>...</td>\n",
       "      <td>...</td>\n",
       "    </tr>\n",
       "    <tr>\n",
       "      <th>3308</th>\n",
       "      <td>United States</td>\n",
       "      <td>C;HTML/CSS;JavaScript;Python;Rust</td>\n",
       "      <td>130000.0</td>\n",
       "    </tr>\n",
       "    <tr>\n",
       "      <th>3309</th>\n",
       "      <td>France</td>\n",
       "      <td>C++;HTML/CSS;Java;SQL</td>\n",
       "      <td>21998.0</td>\n",
       "    </tr>\n",
       "    <tr>\n",
       "      <th>3310</th>\n",
       "      <td>Poland</td>\n",
       "      <td>C++;C#</td>\n",
       "      <td>56114.0</td>\n",
       "    </tr>\n",
       "    <tr>\n",
       "      <th>3314</th>\n",
       "      <td>United Kingdom</td>\n",
       "      <td>HTML/CSS;JavaScript;PHP;R;SQL;TypeScript;VBA</td>\n",
       "      <td>28786.0</td>\n",
       "    </tr>\n",
       "    <tr>\n",
       "      <th>3315</th>\n",
       "      <td>Denmark</td>\n",
       "      <td>Java;JavaScript;PHP</td>\n",
       "      <td>994392.0</td>\n",
       "    </tr>\n",
       "  </tbody>\n",
       "</table>\n",
       "<p>1944 rows × 3 columns</p>\n",
       "</div>"
      ],
      "text/plain": [
       "                   Country                                 LanguageWorkedWith  \\\n",
       "Respondent                                                                      \n",
       "3                 Thailand                                           HTML/CSS   \n",
       "4            United States                                C;C++;C#;Python;SQL   \n",
       "6                   Canada                                         Java;R;SQL   \n",
       "9              New Zealand  Bash/Shell/PowerShell;C#;HTML/CSS;JavaScript;P...   \n",
       "10                   India                      C#;Go;JavaScript;Python;R;SQL   \n",
       "...                    ...                                                ...   \n",
       "3308         United States                  C;HTML/CSS;JavaScript;Python;Rust   \n",
       "3309                France                              C++;HTML/CSS;Java;SQL   \n",
       "3310                Poland                                             C++;C#   \n",
       "3314        United Kingdom       HTML/CSS;JavaScript;PHP;R;SQL;TypeScript;VBA   \n",
       "3315               Denmark                                Java;JavaScript;PHP   \n",
       "\n",
       "            ConvertedComp  \n",
       "Respondent                 \n",
       "3                  8820.0  \n",
       "4                 61000.0  \n",
       "6                366420.0  \n",
       "9                 95179.0  \n",
       "10                13293.0  \n",
       "...                   ...  \n",
       "3308             130000.0  \n",
       "3309              21998.0  \n",
       "3310              56114.0  \n",
       "3314              28786.0  \n",
       "3315             994392.0  \n",
       "\n",
       "[1944 rows x 3 columns]"
      ]
     },
     "execution_count": 59,
     "metadata": {},
     "output_type": "execute_result"
    }
   ],
   "source": [
    "high_salary = (df[\"ConvertedComp\"] > 7000)\n",
    "df.loc[high_salary,[\"Country\", \"LanguageWorkedWith\", \"ConvertedComp\"]]"
   ]
  },
  {
   "cell_type": "markdown",
   "metadata": {},
   "source": [
    "<h3> Extra methods to filter</h3>"
   ]
  },
  {
   "cell_type": "markdown",
   "metadata": {},
   "source": [
    "If you want to filter for multiple elements of one column, the method <strong>df[\"column\"].isin(variable)</strong> is recomended. As previous step, you may need to create a variable with the list of the desiered elements."
   ]
  },
  {
   "cell_type": "code",
   "execution_count": 61,
   "metadata": {},
   "outputs": [
    {
     "data": {
      "text/plain": [
       "Respondent\n",
       "1       United Kingdom\n",
       "4        United States\n",
       "6               Canada\n",
       "8                India\n",
       "10               India\n",
       "             ...      \n",
       "3311     United States\n",
       "3312             India\n",
       "3313     United States\n",
       "3314    United Kingdom\n",
       "3316             India\n",
       "Name: Country, Length: 1636, dtype: object"
      ]
     },
     "execution_count": 61,
     "metadata": {},
     "output_type": "execute_result"
    }
   ],
   "source": [
    "countries = [\"United States\", \"India\", \"United Kingdom\", \"Germany\", \"Canada\"]\n",
    "filt = df[\"Country\"].isin(countries)\n",
    "df.loc[filt, \"Country\"]"
   ]
  },
  {
   "cell_type": "markdown",
   "metadata": {},
   "source": [
    "<p>In case you have a column which the data is in a string with multiples values separeted by an element (space, colon, semi-colon) you can use <strong>df[\"Column\"].str.contains(\"word\")</strong>.</p>\n",
    "<p> If you add <strong>na=False</strong> argument, the function will ignore the NAN values."
   ]
  },
  {
   "cell_type": "code",
   "execution_count": 64,
   "metadata": {},
   "outputs": [
    {
     "data": {
      "text/plain": [
       "Respondent\n",
       "1                         HTML/CSS;Java;JavaScript;Python\n",
       "2                                     C++;HTML/CSS;Python\n",
       "4                                     C;C++;C#;Python;SQL\n",
       "5             C++;HTML/CSS;Java;JavaScript;Python;SQL;VBA\n",
       "8       Bash/Shell/PowerShell;C;C++;HTML/CSS;Java;Java...\n",
       "                              ...                        \n",
       "3304    Assembly;Bash/Shell/PowerShell;C;C++;C#;HTML/C...\n",
       "3305     Bash/Shell/PowerShell;HTML/CSS;JavaScript;Python\n",
       "3308                    C;HTML/CSS;JavaScript;Python;Rust\n",
       "3311           HTML/CSS;Java;JavaScript;Python;TypeScript\n",
       "3316    Bash/Shell/PowerShell;HTML/CSS;Java;JavaScript...\n",
       "Name: LanguageWorkedWith, Length: 1392, dtype: object"
      ]
     },
     "execution_count": 64,
     "metadata": {},
     "output_type": "execute_result"
    }
   ],
   "source": [
    "filt = df[\"LanguageWorkedWith\"].str.contains(\"Python\", na=False)\n",
    "df.loc[filt, \"LanguageWorkedWith\"]"
   ]
  },
  {
   "cell_type": "markdown",
   "metadata": {},
   "source": [
    "<h2><strong>\n",
    "     Updating Rows and Columns</strong>\n",
    "    </h2>"
   ]
  },
  {
   "cell_type": "markdown",
   "metadata": {},
   "source": [
    "<p>There are several options to modify the columns propieties such as: </p>\n",
    "<li>- Add names to columns if not available: <strong>df.columns = [\"name1\",\"name2\",\"name3\"]</strong></li> \n",
    "<li>- Change letters to lower case to upper case or viseversa: <strong>df.columns = [x.upper() for x in df.columns]</strong></li> \n",
    "<li>- Replace not desired values to others: <strong>df.columns = df.columns.str.replace(\"old\",\"new\")</strong></li> \n",
    "<li>- Rename an specific column: <strong>df.rename(columns = {\"old\":\"new\"}, inplace = True)</strong></li> "
   ]
  },
  {
   "cell_type": "code",
   "execution_count": 7,
   "metadata": {},
   "outputs": [],
   "source": [
    "df.rename(columns={\"ConvertedComp\":\"SalaryUSD\"}, inplace=True)\n"
   ]
  },
  {
   "cell_type": "markdown",
   "metadata": {},
   "source": [
    "<h3>Updating Data</h3>"
   ]
  },
  {
   "cell_type": "markdown",
   "metadata": {},
   "source": [
    "<p>The most easiest way is using the <code>.loc</code> method seen before:</p>\n",
    "<li>- Select one row and change all the data: <strong>df.loc[\"row\"] = [\"new1\",\"new2\",\"new3\"]</strong></li> \n",
    "<li>- Select one row and the chosen columns: <strong>df.loc[\"row\",[\"column1\",\"column2\"]] = [\"new1\",\"new2\"]</strong></li> "
   ]
  },
  {
   "cell_type": "code",
   "execution_count": null,
   "metadata": {},
   "outputs": [],
   "source": [
    "df.loc[\"row\"] = [\"new1\",\"new2\",\"new3\"] # Changes all the data of the row.\n",
    "df.loc[\"row\",[\"column1\",\"column2\"]] = [\"new1\",\"new2\"] # Only changes the data selected of the row.\n"
   ]
  },
  {
   "cell_type": "markdown",
   "metadata": {},
   "source": [
    "<p>To changes individual data, do not use the filter method as follows:</p>\n",
    "<p><code>filt = (df[\"Column_filter\"]) == \"Value_Selected\")</code></p>\n",
    "<p><code>df[filt][\"Column\"] = \"New\"</code></p>\n",
    "<p>That will trigger an error on Python. Tu use it, you have to add the column selected of the filtred dataframe using .loc:</p>\n",
    "<p><code>df.loc[filt,\"last\"] = \"New\"</code></p>"
   ]
  },
  {
   "cell_type": "markdown",
   "metadata": {},
   "source": [
    "<h3> Methods to change Data on Multiple Rows</h3>"
   ]
  },
  {
   "cell_type": "markdown",
   "metadata": {},
   "source": [
    "<strong>1. Apply</strong>\n",
    "<p>Mainly used on series format data (1D arrays). You can obtain information about the series or changes it:</p>\n",
    "- Apply the <code>len</code> function to the data frame but only give the lengths of each row or column (depending of the value of <code>axis</code> argument: <strong>df.apply(len, axis=\"Columns\")</strong>.</p>\n",
    "- Apply the <code>len</code> function only to the selected column (series): <strong>df[\"Column\"].apply(len)</strong>.</p>\n",
    "-To change some data, it could be usefull create short functions:. As exemple:\n",
    "<p><code>def update_email(email):</code></p>\n",
    "<p><code>    return email.upper()</code></p>\n",
    "<p><code>df[\"email\"] = df[\"email\"].apply(update_email())</code></p>\n",
    "<p>This code will change all the letters of the email column to upper case.You can use the <code>Lambda</code> method is the function is not complex:</p>\n",
    "<p><code>df[\"email\"] = df[\"email\"].apply(lambda x: x.lower())</code></p>\n",
    "- To obtain a certain value (min, max, std,...), with pandas you can use the <code>Series</code> method: <strong>df.apply(pd.Series.min)</strong>.</p>\n",
    "Using the Lambda method, it will be : <strong>df.apply(lambda x: x.min)</strong>."
   ]
  },
  {
   "cell_type": "code",
   "execution_count": null,
   "metadata": {},
   "outputs": [],
   "source": []
  },
  {
   "cell_type": "markdown",
   "metadata": {},
   "source": [
    "<strong>2. Applymap</strong>\n",
    "<p>If you want to acces or change the data of the whole data frame, you need to use <code>applymap</code> method. As an exemple:</p>\n",
    "<li>- Apply the <code>len</code> function to the all data frame: <strong>df.applymap(len)</strong>.</li>\n",
    "<li>- Change all the data frame to lower case: <strong>df.applymap(str.lower)</strong>.</li>\n"
   ]
  },
  {
   "cell_type": "code",
   "execution_count": null,
   "metadata": {},
   "outputs": [],
   "source": []
  },
  {
   "cell_type": "markdown",
   "metadata": {},
   "source": [
    "<strong>3. Map</strong>\n",
    "<p> To replace the whole data of a column, you could use the <code>map</code> method. It's important to remember that all the values not changed will be considered <strong>NaN</strong>.</p>\n",
    "<p><code>df[\"Column\"].map({\"Old1\":\"New1\",\"Old2\":\"New2\"})</code></p>"
   ]
  },
  {
   "cell_type": "code",
   "execution_count": 10,
   "metadata": {},
   "outputs": [],
   "source": [
    "df[\"Hobbyist\"] = df[\"Hobbyist\"].map({\"Yes\":True,\"No\":False})"
   ]
  },
  {
   "cell_type": "markdown",
   "metadata": {},
   "source": [
    "<strong>4. Replace</strong>\n",
    "<p>To avoid the NaN values from the <code>Map</code> method, you have to use the <code>replace</code> one. Only changes the values selected, not touching the others. </p>\n",
    "<p><code>df[\"Column\"].replace({\"Old1\":\"New1\",\"Old2\":\"New2\"})</code></p>\n",
    "\n",
    "<p>On both methods, remember to assign to the column of the data frame if you want to keep the changes.</p>\n",
    "<p><code>df[\"Column\"] = df[\"Column\"].replace({\"Old1\":\"New1\",\"Old2\":\"New2\"})</code></p>"
   ]
  },
  {
   "cell_type": "code",
   "execution_count": 18,
   "metadata": {},
   "outputs": [],
   "source": [
    " df[\"BetterLife\"] = df[\"BetterLife\"].replace({\"Yes\":True,\"No\":False})"
   ]
  },
  {
   "cell_type": "markdown",
   "metadata": {},
   "source": [
    "<h2><strong>Add/Remove Rows and Columns</strong></h2>"
   ]
  },
  {
   "cell_type": "markdown",
   "metadata": {},
   "source": [
    "<h3> Columns </h3>\n",
    "<p><strong>Add column:</strong> The most common way to creat a column is to merge two or more existing columns to one or take one and make some calculations.</p>\n",
    "<p> To add a name to the column, assign the operation to a new column: <strong> df[\"New_column\"] = df[\"column1\"] + \" \" + df[\"column2\"]</strong>. Note that between both columns there is an argument to add a space between values, handy if you have strings.</p>"
   ]
  },
  {
   "cell_type": "code",
   "execution_count": null,
   "metadata": {},
   "outputs": [],
   "source": [
    "df[\"full_name\"] = df[\"first\"] + \" \" + df[\"last\"]"
   ]
  },
  {
   "cell_type": "markdown",
   "metadata": {},
   "source": [
    "<p><strong>Remove column:</strong> To delete a column or more it can be done within a single line of code:</p><p><strong> df.drop(columns=[\"Column1\",\"Column2\"], inplace = True)</strong>. If you want to confirm the changes, add <code>Implace = True</code> as argument.</p>"
   ]
  },
  {
   "cell_type": "code",
   "execution_count": null,
   "metadata": {},
   "outputs": [],
   "source": [
    "df.drop(columns=[\"first\",\"last\"], inplace = True)"
   ]
  },
  {
   "cell_type": "markdown",
   "metadata": {},
   "source": [
    "<p><strong>Split column:</strong> Exist an option to split a column to more if needed using one of the methods of <code>str</code> method: <strong>df[\"Column1\"].str.split(\" \", expand = True)</strong></p>\n",
    "<p> This method, first, creat a list of each row with the condition introduced on the first argument (space in that case). Using the argumend <code>expand=True</code>, creats a new column for each element of the list created.</p>\n",
    "<p> To give name to the columns created, just asigne the method to a dataframe with the names you want, similar to adding columns.</p>"
   ]
  },
  {
   "cell_type": "code",
   "execution_count": null,
   "metadata": {},
   "outputs": [],
   "source": [
    "df[[\"first\",\"last\"]] =df[\"full_name\"].str.split(\" \", expand = True) "
   ]
  },
  {
   "cell_type": "markdown",
   "metadata": {},
   "source": [
    "<h3> Rows </h3>\n",
    "<p><strong>Add row:</strong> With the method append, you can add a new row at the end of the dataframe. The data not added in the dictionary will be considered NaN: <strong>df.append({\"Column1\":\"data\"}, ignore_index = True)</strong> </p>\n",
    "<p> The argument <code>ignore_index = True</code> is needed to avoid an internal error, more evident when merging differents data frames.</p>"
   ]
  },
  {
   "cell_type": "code",
   "execution_count": null,
   "metadata": {},
   "outputs": [],
   "source": [
    "df.append({\"first\":\"Tony\"}, ignore_index = True)"
   ]
  },
  {
   "cell_type": "markdown",
   "metadata": {},
   "source": [
    "<p><strong>Merging dataframes:</strong> Similar to adding rows, you can use <code>append</code> method to merge to differents dataframes: <strong>df_merge = df.append(df2, ignore_index = True, sort = False)</strong> </p>\n",
    "<p> The argument <code>ignore_index = True</code> is needed to ignore the index of the data frame that it's being merged (df2). The second argument <code>sort</code> force to  avoid sorting the data.</p>"
   ]
  },
  {
   "cell_type": "code",
   "execution_count": null,
   "metadata": {},
   "outputs": [],
   "source": [
    "df_merge = df.append(df2, ignore_index = True, sort = False)"
   ]
  },
  {
   "cell_type": "markdown",
   "metadata": {},
   "source": [
    "<p><strong>Remove row:</strong> There are two main methods:</p>\n",
    "<p>- <strong>By index</strong></p>\n",
    "<p> Using the index nº of the row: <strong>df.drop(index=4, inplace = True)</strong> </p>\n",
    "<p>- <strong>With filter</strong></p>\n",
    "<p> Selecting the rows using a filter: <strong>df.drop(index=df[df[\"Column\"] == \"Data\".index)</strong>.\n",
    "    <p>Adding an extra step, creating a variable with the filter, could make your code more clear: <strong>filt = df[\"Column\"] == \"Data\" --> df.drop(index=df[filt].index)</strong>."
   ]
  },
  {
   "cell_type": "code",
   "execution_count": null,
   "metadata": {},
   "outputs": [],
   "source": [
    "df.drop(index=4, inplace = True) # Delete the row with index nº 4\n",
    "\n",
    "filt = df[\"last\"] == \"Doe\" # Create a filtrer\n",
    "df.drop(index=df[filt].index) # Using the filtrer to acces the indexes of the rows you want to delete."
   ]
  },
  {
   "cell_type": "markdown",
   "metadata": {},
   "source": [
    "<h2><strong> Sorting Data </strong></h2>"
   ]
  },
  {
   "cell_type": "markdown",
   "metadata": {},
   "source": [
    "<p>The most common and easiest way to do it, is using the <strong>df.sort_values()</strong> method.</p>\n",
    "<p>To select the column, use as argument <code>by=\"column1\"</code>. Toc change the order of the sort, add <code> ascending=False</code> in the second place.</p>"
   ]
  },
  {
   "cell_type": "code",
   "execution_count": 9,
   "metadata": {},
   "outputs": [
    {
     "data": {
      "text/plain": [
       "Respondent\n",
       "722             Afghanistan\n",
       "2332                Albania\n",
       "1954                Albania\n",
       "3074                Algeria\n",
       "3300                Algeria\n",
       "1543                Algeria\n",
       "1102                Algeria\n",
       "1547                Andorra\n",
       "11      Antigua and Barbuda\n",
       "147               Argentina\n",
       "Name: Country, dtype: object"
      ]
     },
     "execution_count": 9,
     "metadata": {},
     "output_type": "execute_result"
    }
   ],
   "source": [
    "df.sort_values(by=\"Country\", inplace=True)\n",
    "df[\"Country\"].head(10)"
   ]
  },
  {
   "cell_type": "markdown",
   "metadata": {},
   "source": [
    "<p>If you want to sort the data frame using to columns, use a list in the <code>by</code> argument. Us the same on <code>ascending</code> if you want to sort differently both columns.</p>\n",
    "<p>Note: The first element of the arguments, is the main sorting element.</p>"
   ]
  },
  {
   "cell_type": "code",
   "execution_count": 13,
   "metadata": {},
   "outputs": [
    {
     "data": {
      "text/html": [
       "<div>\n",
       "<style scoped>\n",
       "    .dataframe tbody tr th:only-of-type {\n",
       "        vertical-align: middle;\n",
       "    }\n",
       "\n",
       "    .dataframe tbody tr th {\n",
       "        vertical-align: top;\n",
       "    }\n",
       "\n",
       "    .dataframe thead th {\n",
       "        text-align: right;\n",
       "    }\n",
       "</style>\n",
       "<table border=\"1\" class=\"dataframe\">\n",
       "  <thead>\n",
       "    <tr style=\"text-align: right;\">\n",
       "      <th></th>\n",
       "      <th>Country</th>\n",
       "      <th>ConvertedComp</th>\n",
       "    </tr>\n",
       "    <tr>\n",
       "      <th>Respondent</th>\n",
       "      <th></th>\n",
       "      <th></th>\n",
       "    </tr>\n",
       "  </thead>\n",
       "  <tbody>\n",
       "    <tr>\n",
       "      <th>722</th>\n",
       "      <td>Afghanistan</td>\n",
       "      <td>0.0</td>\n",
       "    </tr>\n",
       "    <tr>\n",
       "      <th>2332</th>\n",
       "      <td>Albania</td>\n",
       "      <td>22080.0</td>\n",
       "    </tr>\n",
       "    <tr>\n",
       "      <th>1954</th>\n",
       "      <td>Albania</td>\n",
       "      <td>11040.0</td>\n",
       "    </tr>\n",
       "    <tr>\n",
       "      <th>1543</th>\n",
       "      <td>Algeria</td>\n",
       "      <td>9144.0</td>\n",
       "    </tr>\n",
       "    <tr>\n",
       "      <th>3074</th>\n",
       "      <td>Algeria</td>\n",
       "      <td>NaN</td>\n",
       "    </tr>\n",
       "    <tr>\n",
       "      <th>3300</th>\n",
       "      <td>Algeria</td>\n",
       "      <td>NaN</td>\n",
       "    </tr>\n",
       "    <tr>\n",
       "      <th>1102</th>\n",
       "      <td>Algeria</td>\n",
       "      <td>NaN</td>\n",
       "    </tr>\n",
       "    <tr>\n",
       "      <th>1547</th>\n",
       "      <td>Andorra</td>\n",
       "      <td>NaN</td>\n",
       "    </tr>\n",
       "    <tr>\n",
       "      <th>11</th>\n",
       "      <td>Antigua and Barbuda</td>\n",
       "      <td>NaN</td>\n",
       "    </tr>\n",
       "    <tr>\n",
       "      <th>181</th>\n",
       "      <td>Argentina</td>\n",
       "      <td>84000.0</td>\n",
       "    </tr>\n",
       "    <tr>\n",
       "      <th>663</th>\n",
       "      <td>Argentina</td>\n",
       "      <td>58140.0</td>\n",
       "    </tr>\n",
       "    <tr>\n",
       "      <th>1735</th>\n",
       "      <td>Argentina</td>\n",
       "      <td>41988.0</td>\n",
       "    </tr>\n",
       "    <tr>\n",
       "      <th>1943</th>\n",
       "      <td>Argentina</td>\n",
       "      <td>35798.0</td>\n",
       "    </tr>\n",
       "    <tr>\n",
       "      <th>1133</th>\n",
       "      <td>Argentina</td>\n",
       "      <td>34524.0</td>\n",
       "    </tr>\n",
       "    <tr>\n",
       "      <th>1532</th>\n",
       "      <td>Argentina</td>\n",
       "      <td>30684.0</td>\n",
       "    </tr>\n",
       "  </tbody>\n",
       "</table>\n",
       "</div>"
      ],
      "text/plain": [
       "                        Country  ConvertedComp\n",
       "Respondent                                    \n",
       "722                 Afghanistan            0.0\n",
       "2332                    Albania        22080.0\n",
       "1954                    Albania        11040.0\n",
       "1543                    Algeria         9144.0\n",
       "3074                    Algeria            NaN\n",
       "3300                    Algeria            NaN\n",
       "1102                    Algeria            NaN\n",
       "1547                    Andorra            NaN\n",
       "11          Antigua and Barbuda            NaN\n",
       "181                   Argentina        84000.0\n",
       "663                   Argentina        58140.0\n",
       "1735                  Argentina        41988.0\n",
       "1943                  Argentina        35798.0\n",
       "1133                  Argentina        34524.0\n",
       "1532                  Argentina        30684.0"
      ]
     },
     "execution_count": 13,
     "metadata": {},
     "output_type": "execute_result"
    }
   ],
   "source": [
    "df.sort_values(by=[\"Country\", \"ConvertedComp\"], ascending=[True, False],inplace = True)\n",
    "df[[\"Country\",\"ConvertedComp\"]].head(15)"
   ]
  },
  {
   "cell_type": "markdown",
   "metadata": {},
   "source": [
    "<p>Remember to use <code>inplace=True</code> if you want to keep the changes. </p>\n",
    "<p>To reset the order, you can directly use <strong>df.sort_index()</strong> method, using the indexes to sort de data frame.</p>"
   ]
  },
  {
   "cell_type": "code",
   "execution_count": 15,
   "metadata": {},
   "outputs": [
    {
     "data": {
      "text/html": [
       "<div>\n",
       "<style scoped>\n",
       "    .dataframe tbody tr th:only-of-type {\n",
       "        vertical-align: middle;\n",
       "    }\n",
       "\n",
       "    .dataframe tbody tr th {\n",
       "        vertical-align: top;\n",
       "    }\n",
       "\n",
       "    .dataframe thead th {\n",
       "        text-align: right;\n",
       "    }\n",
       "</style>\n",
       "<table border=\"1\" class=\"dataframe\">\n",
       "  <thead>\n",
       "    <tr style=\"text-align: right;\">\n",
       "      <th></th>\n",
       "      <th>Country</th>\n",
       "      <th>ConvertedComp</th>\n",
       "    </tr>\n",
       "    <tr>\n",
       "      <th>Respondent</th>\n",
       "      <th></th>\n",
       "      <th></th>\n",
       "    </tr>\n",
       "  </thead>\n",
       "  <tbody>\n",
       "    <tr>\n",
       "      <th>1</th>\n",
       "      <td>United Kingdom</td>\n",
       "      <td>NaN</td>\n",
       "    </tr>\n",
       "    <tr>\n",
       "      <th>2</th>\n",
       "      <td>Bosnia and Herzegovina</td>\n",
       "      <td>NaN</td>\n",
       "    </tr>\n",
       "    <tr>\n",
       "      <th>3</th>\n",
       "      <td>Thailand</td>\n",
       "      <td>8820.0</td>\n",
       "    </tr>\n",
       "    <tr>\n",
       "      <th>4</th>\n",
       "      <td>United States</td>\n",
       "      <td>61000.0</td>\n",
       "    </tr>\n",
       "    <tr>\n",
       "      <th>5</th>\n",
       "      <td>Ukraine</td>\n",
       "      <td>NaN</td>\n",
       "    </tr>\n",
       "    <tr>\n",
       "      <th>6</th>\n",
       "      <td>Canada</td>\n",
       "      <td>366420.0</td>\n",
       "    </tr>\n",
       "    <tr>\n",
       "      <th>7</th>\n",
       "      <td>Ukraine</td>\n",
       "      <td>NaN</td>\n",
       "    </tr>\n",
       "    <tr>\n",
       "      <th>8</th>\n",
       "      <td>India</td>\n",
       "      <td>NaN</td>\n",
       "    </tr>\n",
       "    <tr>\n",
       "      <th>9</th>\n",
       "      <td>New Zealand</td>\n",
       "      <td>95179.0</td>\n",
       "    </tr>\n",
       "    <tr>\n",
       "      <th>10</th>\n",
       "      <td>India</td>\n",
       "      <td>13293.0</td>\n",
       "    </tr>\n",
       "    <tr>\n",
       "      <th>11</th>\n",
       "      <td>Antigua and Barbuda</td>\n",
       "      <td>NaN</td>\n",
       "    </tr>\n",
       "    <tr>\n",
       "      <th>12</th>\n",
       "      <td>Canada</td>\n",
       "      <td>NaN</td>\n",
       "    </tr>\n",
       "    <tr>\n",
       "      <th>13</th>\n",
       "      <td>United States</td>\n",
       "      <td>90000.0</td>\n",
       "    </tr>\n",
       "    <tr>\n",
       "      <th>14</th>\n",
       "      <td>Germany</td>\n",
       "      <td>57060.0</td>\n",
       "    </tr>\n",
       "    <tr>\n",
       "      <th>15</th>\n",
       "      <td>India</td>\n",
       "      <td>NaN</td>\n",
       "    </tr>\n",
       "  </tbody>\n",
       "</table>\n",
       "</div>"
      ],
      "text/plain": [
       "                           Country  ConvertedComp\n",
       "Respondent                                       \n",
       "1                   United Kingdom            NaN\n",
       "2           Bosnia and Herzegovina            NaN\n",
       "3                         Thailand         8820.0\n",
       "4                    United States        61000.0\n",
       "5                          Ukraine            NaN\n",
       "6                           Canada       366420.0\n",
       "7                          Ukraine            NaN\n",
       "8                            India            NaN\n",
       "9                      New Zealand        95179.0\n",
       "10                           India        13293.0\n",
       "11             Antigua and Barbuda            NaN\n",
       "12                          Canada            NaN\n",
       "13                   United States        90000.0\n",
       "14                         Germany        57060.0\n",
       "15                           India            NaN"
      ]
     },
     "execution_count": 15,
     "metadata": {},
     "output_type": "execute_result"
    }
   ],
   "source": [
    "df.sort_index(inplace = True)\n",
    "df[[\"Country\",\"ConvertedComp\"]].head(15)"
   ]
  },
  {
   "cell_type": "markdown",
   "metadata": {},
   "source": [
    "If you only need a single column as an output (series), the sort_values method works after selecting a column using <code>df[\"column1\"]</code> method."
   ]
  },
  {
   "cell_type": "code",
   "execution_count": null,
   "metadata": {},
   "outputs": [],
   "source": [
    "df[\"column1\"].sort_values()"
   ]
  },
  {
   "cell_type": "markdown",
   "metadata": {},
   "source": [
    "<h3> Smallest and Largest values</h3></p>\n",
    "<p> To quickly see the largest or the smallest value of a column, simply use <strong>df[\"Column1\"].nlargest() or .nsmallest()</strong> method.</p>"
   ]
  },
  {
   "cell_type": "code",
   "execution_count": 24,
   "metadata": {},
   "outputs": [
    {
     "data": {
      "text/plain": [
       "Respondent\n",
       "58      2000000.0\n",
       "102     2000000.0\n",
       "166     2000000.0\n",
       "436     2000000.0\n",
       "452     2000000.0\n",
       "491     2000000.0\n",
       "539     2000000.0\n",
       "770     2000000.0\n",
       "789     2000000.0\n",
       "1232    2000000.0\n",
       "Name: ConvertedComp, dtype: float64"
      ]
     },
     "execution_count": 24,
     "metadata": {},
     "output_type": "execute_result"
    }
   ],
   "source": [
    "df[\"ConvertedComp\"].nlargest(10)"
   ]
  },
  {
   "cell_type": "markdown",
   "metadata": {},
   "source": [
    "In addition, if you want to see the row of these values, use <strong>df.nlargest(nº,\"Column1\")</strong> method. In nº, put thenº of rows to show."
   ]
  },
  {
   "cell_type": "code",
   "execution_count": null,
   "metadata": {},
   "outputs": [],
   "source": [
    "df.nlargest(10,\"ConvertedComp\")"
   ]
  },
  {
   "cell_type": "markdown",
   "metadata": {},
   "source": [
    "<h2><strong> Groupping and Aggregating Data </strong></h2>\n",
    "<p> First of all, let's take a look on our data frame, using some of the most used aggregating methods.\n",
    "<p> To know the average value of a column, looking for the mean value will be the most intuitive way, but in extensive data frames, to avoid distorsions from the extrem values, it's usuall to use the median.\n",
    "   \n",
    "<p>To see the median of one column: <strong>df[\"Column\"].median()</strong>."
   ]
  },
  {
   "cell_type": "code",
   "execution_count": 27,
   "metadata": {},
   "outputs": [
    {
     "data": {
      "text/plain": [
       "57744.0"
      ]
     },
     "execution_count": 27,
     "metadata": {},
     "output_type": "execute_result"
    }
   ],
   "source": [
    "df[\"ConvertedComp\"].median()"
   ]
  },
  {
   "cell_type": "markdown",
   "metadata": {},
   "source": [
    "<p>To see the median of all the data frame: <strong>df.median()</strong>."
   ]
  },
  {
   "cell_type": "code",
   "execution_count": 28,
   "metadata": {},
   "outputs": [
    {
     "data": {
      "text/plain": [
       "CompTotal        65000.0\n",
       "ConvertedComp    57744.0\n",
       "WorkWeekHrs         40.0\n",
       "CodeRevHrs           4.0\n",
       "Age                 29.0\n",
       "dtype: float64"
      ]
     },
     "execution_count": 28,
     "metadata": {},
     "output_type": "execute_result"
    }
   ],
   "source": [
    "df.median()"
   ]
  },
  {
   "cell_type": "markdown",
   "metadata": {},
   "source": [
    "Note: If not indicated, it only shows the float or int type values.\n",
    "<p> There is another method to see a wide overview of the aggregated values of those values. To see the overview of the data frame: <strong>df.describe()</strong>."
   ]
  },
  {
   "cell_type": "code",
   "execution_count": 29,
   "metadata": {},
   "outputs": [
    {
     "data": {
      "text/html": [
       "<div>\n",
       "<style scoped>\n",
       "    .dataframe tbody tr th:only-of-type {\n",
       "        vertical-align: middle;\n",
       "    }\n",
       "\n",
       "    .dataframe tbody tr th {\n",
       "        vertical-align: top;\n",
       "    }\n",
       "\n",
       "    .dataframe thead th {\n",
       "        text-align: right;\n",
       "    }\n",
       "</style>\n",
       "<table border=\"1\" class=\"dataframe\">\n",
       "  <thead>\n",
       "    <tr style=\"text-align: right;\">\n",
       "      <th></th>\n",
       "      <th>CompTotal</th>\n",
       "      <th>ConvertedComp</th>\n",
       "      <th>WorkWeekHrs</th>\n",
       "      <th>CodeRevHrs</th>\n",
       "      <th>Age</th>\n",
       "    </tr>\n",
       "  </thead>\n",
       "  <tbody>\n",
       "    <tr>\n",
       "      <th>count</th>\n",
       "      <td>2.085000e+03</td>\n",
       "      <td>2.081000e+03</td>\n",
       "      <td>2414.000000</td>\n",
       "      <td>1907.000000</td>\n",
       "      <td>2941.000000</td>\n",
       "    </tr>\n",
       "    <tr>\n",
       "      <th>mean</th>\n",
       "      <td>3.013950e+09</td>\n",
       "      <td>1.321032e+05</td>\n",
       "      <td>42.803708</td>\n",
       "      <td>4.904740</td>\n",
       "      <td>30.413091</td>\n",
       "    </tr>\n",
       "    <tr>\n",
       "      <th>std</th>\n",
       "      <td>1.375600e+11</td>\n",
       "      <td>3.000233e+05</td>\n",
       "      <td>26.339804</td>\n",
       "      <td>4.761177</td>\n",
       "      <td>8.895249</td>\n",
       "    </tr>\n",
       "    <tr>\n",
       "      <th>min</th>\n",
       "      <td>0.000000e+00</td>\n",
       "      <td>0.000000e+00</td>\n",
       "      <td>1.000000</td>\n",
       "      <td>0.000000</td>\n",
       "      <td>1.000000</td>\n",
       "    </tr>\n",
       "    <tr>\n",
       "      <th>25%</th>\n",
       "      <td>2.100000e+04</td>\n",
       "      <td>2.638800e+04</td>\n",
       "      <td>40.000000</td>\n",
       "      <td>2.000000</td>\n",
       "      <td>24.000000</td>\n",
       "    </tr>\n",
       "    <tr>\n",
       "      <th>50%</th>\n",
       "      <td>6.500000e+04</td>\n",
       "      <td>5.774400e+04</td>\n",
       "      <td>40.000000</td>\n",
       "      <td>4.000000</td>\n",
       "      <td>29.000000</td>\n",
       "    </tr>\n",
       "    <tr>\n",
       "      <th>75%</th>\n",
       "      <td>1.250000e+05</td>\n",
       "      <td>1.030000e+05</td>\n",
       "      <td>45.000000</td>\n",
       "      <td>6.000000</td>\n",
       "      <td>35.000000</td>\n",
       "    </tr>\n",
       "    <tr>\n",
       "      <th>max</th>\n",
       "      <td>6.281239e+12</td>\n",
       "      <td>2.000000e+06</td>\n",
       "      <td>475.000000</td>\n",
       "      <td>54.000000</td>\n",
       "      <td>73.000000</td>\n",
       "    </tr>\n",
       "  </tbody>\n",
       "</table>\n",
       "</div>"
      ],
      "text/plain": [
       "          CompTotal  ConvertedComp  WorkWeekHrs   CodeRevHrs          Age\n",
       "count  2.085000e+03   2.081000e+03  2414.000000  1907.000000  2941.000000\n",
       "mean   3.013950e+09   1.321032e+05    42.803708     4.904740    30.413091\n",
       "std    1.375600e+11   3.000233e+05    26.339804     4.761177     8.895249\n",
       "min    0.000000e+00   0.000000e+00     1.000000     0.000000     1.000000\n",
       "25%    2.100000e+04   2.638800e+04    40.000000     2.000000    24.000000\n",
       "50%    6.500000e+04   5.774400e+04    40.000000     4.000000    29.000000\n",
       "75%    1.250000e+05   1.030000e+05    45.000000     6.000000    35.000000\n",
       "max    6.281239e+12   2.000000e+06   475.000000    54.000000    73.000000"
      ]
     },
     "execution_count": 29,
     "metadata": {},
     "output_type": "execute_result"
    }
   ],
   "source": [
    "df.describe()"
   ]
  },
  {
   "cell_type": "markdown",
   "metadata": {},
   "source": [
    "The row count only take the existing values, droping the NaN values of the series. You can use the following method to see it independently: <strong>df[\"Column\"].count()</strong>."
   ]
  },
  {
   "cell_type": "code",
   "execution_count": 34,
   "metadata": {},
   "outputs": [
    {
     "data": {
      "text/plain": [
       "3303"
      ]
     },
     "execution_count": 34,
     "metadata": {},
     "output_type": "execute_result"
    }
   ],
   "source": [
    "df[\"Hobbyist\"].count()"
   ]
  },
  {
   "cell_type": "markdown",
   "metadata": {},
   "source": [
    "It would be of interest how many times one value repeat in a series. To see it use: <strong>df[\"Column\"].value_counts()</strong>.\n",
    "<p> The output is a count of each value that appear in the series."
   ]
  },
  {
   "cell_type": "code",
   "execution_count": 33,
   "metadata": {},
   "outputs": [
    {
     "data": {
      "text/plain": [
       "Yes    2662\n",
       "No      641\n",
       "Name: Hobbyist, dtype: int64"
      ]
     },
     "execution_count": 33,
     "metadata": {},
     "output_type": "execute_result"
    }
   ],
   "source": [
    "df[\"Hobbyist\"].value_counts()"
   ]
  },
  {
   "cell_type": "markdown",
   "metadata": {},
   "source": [
    "In data science, give a normalize value of the date it's common. Adding the argument <code>normalize=True</code> to the <code>value_counts()</code> method, gives an output of the relative nº of the data."
   ]
  },
  {
   "cell_type": "code",
   "execution_count": 39,
   "metadata": {},
   "outputs": [
    {
     "data": {
      "text/plain": [
       "Reddit                      0.174724\n",
       "Facebook                    0.166825\n",
       "YouTube                     0.159242\n",
       "WhatsApp                    0.154186\n",
       "Twitter                     0.139336\n",
       "Instagram                   0.072986\n",
       "I don't use social media    0.064139\n",
       "LinkedIn                    0.047393\n",
       "Snapchat                    0.007583\n",
       "VK ВКонта́кте               0.006951\n",
       "WeChat 微信                   0.005371\n",
       "Weibo 新浪微博                  0.000632\n",
       "Youku Tudou 优酷              0.000316\n",
       "Hello                       0.000316\n",
       "Name: SocialMedia, dtype: float64"
      ]
     },
     "execution_count": 39,
     "metadata": {},
     "output_type": "execute_result"
    }
   ],
   "source": [
    "df[\"SocialMedia\"].value_counts(normalize=True)"
   ]
  },
  {
   "cell_type": "markdown",
   "metadata": {},
   "source": [
    "As an advanced count, you can use the filter method learnt before to acces a more accurate information:\n",
    "<p> First, you have to create the filter: <strong>filt = df[\"Column1\"] == \"value\"</strong></p>\n",
    "<p> Second, apply <code>value_count()</code> method using <code>.loc</code> to acces data: <strong>df.loc[filt][\"Column2\"].value_counts()</strong></p>"
   ]
  },
  {
   "cell_type": "code",
   "execution_count": 46,
   "metadata": {},
   "outputs": [
    {
     "data": {
      "text/plain": [
       "WhatsApp                    21\n",
       "Twitter                     13\n",
       "Reddit                      10\n",
       "YouTube                      6\n",
       "Instagram                    5\n",
       "I don't use social media     3\n",
       "LinkedIn                     1\n",
       "Facebook                     1\n",
       "Name: SocialMedia, dtype: int64"
      ]
     },
     "execution_count": 46,
     "metadata": {},
     "output_type": "execute_result"
    }
   ],
   "source": [
    "filt = df[\"Country\"] == \"Spain\"\n",
    "df.loc[filt][\"SocialMedia\"].value_counts()"
   ]
  },
  {
   "cell_type": "markdown",
   "metadata": {},
   "source": [
    "<h3><strong> Groupping (groupby)</strong></h3>"
   ]
  },
  {
   "cell_type": "markdown",
   "metadata": {},
   "source": [
    "As seen before, you can create filters to acces more accurate data, but if you want to change the type of information you see, you have to change the whole filter. Using <code>Groupby</code> method, implemented to panda, makes the changes easier.\n",
    "<p> The first step is to creat a <code>groupby</code> object and asign it to a variable:</p><p><strong> column1_grp = df.groupby([\"Column1\"]) </strong>.\n",
    "    <p> Once created, you can acces to the information of a determinated value:\n",
    "        <strong> column1_grp.get_group(\"Value1\")</strong>."
   ]
  },
  {
   "cell_type": "code",
   "execution_count": null,
   "metadata": {},
   "outputs": [],
   "source": [
    "country_grp = df.groupby([\"Country\"]) # Create a series of each value of the series defined. Useful to put into a variable.\n",
    "country_grp.get_group(\"United States\") # Takes the row only from US as a filter"
   ]
  },
  {
   "cell_type": "markdown",
   "metadata": {},
   "source": [
    "The <code>groupby</code> method, creates a dataframe from each value of the column you picked up (grouping), asigning indexes and sub-indexes, and you can work as the same way as a data frame:\n",
    "<p> To acces the total counts of column 2 from each value of column1: <strong> column1_grp[\"Column2\"].value_counts()</strong>."
   ]
  },
  {
   "cell_type": "code",
   "execution_count": 51,
   "metadata": {},
   "outputs": [
    {
     "data": {
      "text/plain": [
       "Country    SocialMedia             \n",
       "Albania    Facebook                     1\n",
       "           YouTube                      1\n",
       "Algeria    Facebook                     2\n",
       "           YouTube                      1\n",
       "Andorra    I don't use social media     1\n",
       "Argentina  WhatsApp                     9\n",
       "           Twitter                      3\n",
       "           Facebook                     2\n",
       "           Reddit                       2\n",
       "           Instagram                    1\n",
       "           YouTube                      1\n",
       "Armenia    Facebook                     3\n",
       "           YouTube                      2\n",
       "Australia  Facebook                    18\n",
       "           Reddit                      13\n",
       "           Twitter                     10\n",
       "           YouTube                     10\n",
       "           WhatsApp                     8\n",
       "           I don't use social media     6\n",
       "           Instagram                    6\n",
       "Name: SocialMedia, dtype: int64"
      ]
     },
     "execution_count": 51,
     "metadata": {},
     "output_type": "execute_result"
    }
   ],
   "source": [
    "country_grp[\"SocialMedia\"].value_counts().head(20) # Return a series with multiple index (grouping)"
   ]
  },
  {
   "cell_type": "markdown",
   "metadata": {},
   "source": [
    "Finally, you can acces to the information of an specific value of the 1st column using <code>.loc</code> method:<strong> column1_grp[\"Column2\"].value_counts().loc[\"Value_Column1\"]</strong>.</p>\n",
    "Remeber: the .loc method use the name of the indexes."
   ]
  },
  {
   "cell_type": "code",
   "execution_count": 53,
   "metadata": {},
   "outputs": [
    {
     "data": {
      "text/plain": [
       "SocialMedia\n",
       "WhatsApp                    21\n",
       "Twitter                     13\n",
       "Reddit                      10\n",
       "YouTube                      6\n",
       "Instagram                    5\n",
       "I don't use social media     3\n",
       "Facebook                     1\n",
       "LinkedIn                     1\n",
       "Name: SocialMedia, dtype: int64"
      ]
     },
     "execution_count": 53,
     "metadata": {},
     "output_type": "execute_result"
    }
   ],
   "source": [
    "country_grp[\"SocialMedia\"].value_counts().loc[\"Spain\"]"
   ]
  },
  {
   "cell_type": "markdown",
   "metadata": {},
   "source": [
    "At first, it seems longer but in the long term it helps to acces quickly to all sort of information only changing the .loc parameter."
   ]
  },
  {
   "cell_type": "markdown",
   "metadata": {},
   "source": [
    "<h3><strong> Aggregating (agg)</strong></h3>"
   ]
  },
  {
   "cell_type": "markdown",
   "metadata": {},
   "source": [
    "With pandas you could use multiple functions to acces useful information using the <code>.agg</code> method on a <code>groupby</code> object. The output is a data frame as the functions results as a columns.\n",
    "<p>Simply use the following structure: <strong>country_grp[\"Column1\"].agg([\"function1\",\"function2\"])</strong>.\n"
   ]
  },
  {
   "cell_type": "code",
   "execution_count": 49,
   "metadata": {},
   "outputs": [
    {
     "data": {
      "text/html": [
       "<div>\n",
       "<style scoped>\n",
       "    .dataframe tbody tr th:only-of-type {\n",
       "        vertical-align: middle;\n",
       "    }\n",
       "\n",
       "    .dataframe tbody tr th {\n",
       "        vertical-align: top;\n",
       "    }\n",
       "\n",
       "    .dataframe thead th {\n",
       "        text-align: right;\n",
       "    }\n",
       "</style>\n",
       "<table border=\"1\" class=\"dataframe\">\n",
       "  <thead>\n",
       "    <tr style=\"text-align: right;\">\n",
       "      <th></th>\n",
       "      <th>median</th>\n",
       "      <th>mean</th>\n",
       "    </tr>\n",
       "    <tr>\n",
       "      <th>Country</th>\n",
       "      <th></th>\n",
       "      <th></th>\n",
       "    </tr>\n",
       "  </thead>\n",
       "  <tbody>\n",
       "    <tr>\n",
       "      <th>Afghanistan</th>\n",
       "      <td>0.0</td>\n",
       "      <td>0.0</td>\n",
       "    </tr>\n",
       "    <tr>\n",
       "      <th>Albania</th>\n",
       "      <td>16560.0</td>\n",
       "      <td>16560.0</td>\n",
       "    </tr>\n",
       "    <tr>\n",
       "      <th>Algeria</th>\n",
       "      <td>9144.0</td>\n",
       "      <td>9144.0</td>\n",
       "    </tr>\n",
       "    <tr>\n",
       "      <th>Andorra</th>\n",
       "      <td>NaN</td>\n",
       "      <td>NaN</td>\n",
       "    </tr>\n",
       "    <tr>\n",
       "      <th>Antigua and Barbuda</th>\n",
       "      <td>NaN</td>\n",
       "      <td>NaN</td>\n",
       "    </tr>\n",
       "    <tr>\n",
       "      <th>...</th>\n",
       "      <td>...</td>\n",
       "      <td>...</td>\n",
       "    </tr>\n",
       "    <tr>\n",
       "      <th>Uzbekistan</th>\n",
       "      <td>70000.0</td>\n",
       "      <td>70000.0</td>\n",
       "    </tr>\n",
       "    <tr>\n",
       "      <th>Venezuela, Bolivarian Republic of...</th>\n",
       "      <td>9720.0</td>\n",
       "      <td>9720.0</td>\n",
       "    </tr>\n",
       "    <tr>\n",
       "      <th>Viet Nam</th>\n",
       "      <td>29736.0</td>\n",
       "      <td>29736.0</td>\n",
       "    </tr>\n",
       "    <tr>\n",
       "      <th>Yemen</th>\n",
       "      <td>14376.0</td>\n",
       "      <td>14376.0</td>\n",
       "    </tr>\n",
       "    <tr>\n",
       "      <th>Zimbabwe</th>\n",
       "      <td>18600.0</td>\n",
       "      <td>18600.0</td>\n",
       "    </tr>\n",
       "  </tbody>\n",
       "</table>\n",
       "<p>127 rows × 2 columns</p>\n",
       "</div>"
      ],
      "text/plain": [
       "                                       median     mean\n",
       "Country                                               \n",
       "Afghanistan                               0.0      0.0\n",
       "Albania                               16560.0  16560.0\n",
       "Algeria                                9144.0   9144.0\n",
       "Andorra                                   NaN      NaN\n",
       "Antigua and Barbuda                       NaN      NaN\n",
       "...                                       ...      ...\n",
       "Uzbekistan                            70000.0  70000.0\n",
       "Venezuela, Bolivarian Republic of...   9720.0   9720.0\n",
       "Viet Nam                              29736.0  29736.0\n",
       "Yemen                                 14376.0  14376.0\n",
       "Zimbabwe                              18600.0  18600.0\n",
       "\n",
       "[127 rows x 2 columns]"
      ]
     },
     "execution_count": 49,
     "metadata": {},
     "output_type": "execute_result"
    }
   ],
   "source": [
    "country_grp[\"ConvertedComp\"].agg([\"median\",\"mean\"])"
   ]
  },
  {
   "cell_type": "markdown",
   "metadata": {},
   "source": [
    "Using the <code>.loc</code> method at the end, you can acces a series of the selected index."
   ]
  },
  {
   "cell_type": "code",
   "execution_count": 50,
   "metadata": {},
   "outputs": [
    {
     "data": {
      "text/plain": [
       "median    59579.000000\n",
       "mean      98365.098039\n",
       "Name: Germany, dtype: float64"
      ]
     },
     "execution_count": 50,
     "metadata": {},
     "output_type": "execute_result"
    }
   ],
   "source": [
    "country_grp[\"ConvertedComp\"].agg([\"median\",\"mean\"]).loc[\"Germany\"]"
   ]
  },
  {
   "cell_type": "markdown",
   "metadata": {},
   "source": [
    "<h3>Using .str method on groupby objects</h3>"
   ]
  },
  {
   "cell_type": "markdown",
   "metadata": {},
   "source": [
    "As seen before on the filters chapter, the operations methods such as <code>.sum()</code> could be added at the end after using a string method <code>.str</code>."
   ]
  },
  {
   "cell_type": "code",
   "execution_count": 10,
   "metadata": {},
   "outputs": [
    {
     "data": {
      "text/plain": [
       "111"
      ]
     },
     "execution_count": 10,
     "metadata": {},
     "output_type": "execute_result"
    }
   ],
   "source": [
    "filt = df[\"Country\"] == \"India\"\n",
    "df.loc[filt][\"LanguageWorkedWith\"].str.contains(\"Python\").sum() # Using str method"
   ]
  },
  {
   "cell_type": "markdown",
   "metadata": {},
   "source": [
    "But, what happens if this method is used in a <code>groupby</code> object?"
   ]
  },
  {
   "cell_type": "code",
   "execution_count": 11,
   "metadata": {},
   "outputs": [
    {
     "ename": "AttributeError",
     "evalue": "'SeriesGroupBy' object has no attribute 'str'",
     "output_type": "error",
     "traceback": [
      "\u001b[0;31m---------------------------------------------------------------------------\u001b[0m",
      "\u001b[0;31mAttributeError\u001b[0m                            Traceback (most recent call last)",
      "\u001b[0;32m<ipython-input-11-360dd9d0a063>\u001b[0m in \u001b[0;36m<module>\u001b[0;34m\u001b[0m\n\u001b[0;32m----> 1\u001b[0;31m \u001b[0mcountry_grp\u001b[0m\u001b[0;34m[\u001b[0m\u001b[0;34m\"LanguageWorkedWith\"\u001b[0m\u001b[0;34m]\u001b[0m\u001b[0;34m.\u001b[0m\u001b[0mstr\u001b[0m\u001b[0;34m.\u001b[0m\u001b[0mcontains\u001b[0m\u001b[0;34m(\u001b[0m\u001b[0;34m\"Python\"\u001b[0m\u001b[0;34m)\u001b[0m\u001b[0;34m.\u001b[0m\u001b[0msum\u001b[0m\u001b[0;34m(\u001b[0m\u001b[0;34m)\u001b[0m\u001b[0;34m\u001b[0m\u001b[0;34m\u001b[0m\u001b[0m\n\u001b[0m",
      "\u001b[0;32m~/conda/envs/python/lib/python3.6/site-packages/pandas/core/groupby/groupby.py\u001b[0m in \u001b[0;36m__getattr__\u001b[0;34m(self, attr)\u001b[0m\n\u001b[1;32m    702\u001b[0m \u001b[0;34m\u001b[0m\u001b[0m\n\u001b[1;32m    703\u001b[0m         raise AttributeError(\n\u001b[0;32m--> 704\u001b[0;31m             \u001b[0;34mf\"'{type(self).__name__}' object has no attribute '{attr}'\"\u001b[0m\u001b[0;34m\u001b[0m\u001b[0;34m\u001b[0m\u001b[0m\n\u001b[0m\u001b[1;32m    705\u001b[0m         )\n\u001b[1;32m    706\u001b[0m \u001b[0;34m\u001b[0m\u001b[0m\n",
      "\u001b[0;31mAttributeError\u001b[0m: 'SeriesGroupBy' object has no attribute 'str'"
     ]
    }
   ],
   "source": [
    "country_grp[\"LanguageWorkedWith\"].str.contains(\"Python\").sum()\n",
    "# You can't use series method to a series group directly."
   ]
  },
  {
   "cell_type": "markdown",
   "metadata": {},
   "source": [
    "It triggers an error that ask to use <code>.apply</code> method instead, indicating the function to use.\n",
    "<p>It's a good way to think that a groupby object is the sum of multiple series, and with the <code>.apply</code> method you acces individualy to each series of the group object."
   ]
  },
  {
   "cell_type": "code",
   "execution_count": 12,
   "metadata": {},
   "outputs": [
    {
     "data": {
      "text/plain": [
       "Country\n",
       "Afghanistan                             0\n",
       "Albania                                 1\n",
       "Algeria                                 1\n",
       "Andorra                                 0\n",
       "Antigua and Barbuda                     0\n",
       "                                       ..\n",
       "Uzbekistan                              0\n",
       "Venezuela, Bolivarian Republic of...    1\n",
       "Viet Nam                                0\n",
       "Yemen                                   0\n",
       "Zimbabwe                                2\n",
       "Name: LanguageWorkedWith, Length: 127, dtype: int64"
      ]
     },
     "execution_count": 12,
     "metadata": {},
     "output_type": "execute_result"
    }
   ],
   "source": [
    "country_grp[\"LanguageWorkedWith\"].apply(lambda x: x.str.contains(\"Python\").sum())"
   ]
  },
  {
   "cell_type": "markdown",
   "metadata": {},
   "source": [
    "<h2><strong> Example: </strong></h2>\n",
    "<h3> What's the % of people knowing Python on each country?</h3>"
   ]
  },
  {
   "cell_type": "code",
   "execution_count": 51,
   "metadata": {},
   "outputs": [],
   "source": [
    "# Create a variable with a groupby object, grouping by Countries.\n",
    "country_grp = df.groupby([\"Country\"])\n",
    "\n",
    "# Create a variable of the respondents.\n",
    "country_respondents = df[\"Country\"].value_counts()\n",
    "\n",
    "# Create a variable with the series of the sum of all the pythonist of each country (apply method).\n",
    "country_uses_python = country_grp[\"LanguageWorkedWith\"].apply(lambda x: x.str.contains(\"Python\").sum())"
   ]
  },
  {
   "cell_type": "markdown",
   "metadata": {},
   "source": [
    "<h3><strong> Concatenate (Concat) </strong></h3>"
   ]
  },
  {
   "cell_type": "markdown",
   "metadata": {},
   "source": [
    "A useful way to create a data frame from a group of series created, is to use the method <code>.concat</code>. It's needed to use the argument <code>axis = \"columns\"</code> to use the series indexes as columns in the new data frame:\n",
    "<p><strong>new_df = pd.concat([Series1,Series2]</strong></p>\n"
   ]
  },
  {
   "cell_type": "code",
   "execution_count": 54,
   "metadata": {},
   "outputs": [
    {
     "data": {
      "text/html": [
       "<div>\n",
       "<style scoped>\n",
       "    .dataframe tbody tr th:only-of-type {\n",
       "        vertical-align: middle;\n",
       "    }\n",
       "\n",
       "    .dataframe tbody tr th {\n",
       "        vertical-align: top;\n",
       "    }\n",
       "\n",
       "    .dataframe thead th {\n",
       "        text-align: right;\n",
       "    }\n",
       "</style>\n",
       "<table border=\"1\" class=\"dataframe\">\n",
       "  <thead>\n",
       "    <tr style=\"text-align: right;\">\n",
       "      <th></th>\n",
       "      <th>Country</th>\n",
       "      <th>LanguageWorkedWith</th>\n",
       "    </tr>\n",
       "  </thead>\n",
       "  <tbody>\n",
       "    <tr>\n",
       "      <th>United States</th>\n",
       "      <td>787</td>\n",
       "      <td>386</td>\n",
       "    </tr>\n",
       "    <tr>\n",
       "      <th>India</th>\n",
       "      <td>317</td>\n",
       "      <td>111</td>\n",
       "    </tr>\n",
       "    <tr>\n",
       "      <th>United Kingdom</th>\n",
       "      <td>207</td>\n",
       "      <td>86</td>\n",
       "    </tr>\n",
       "    <tr>\n",
       "      <th>Germany</th>\n",
       "      <td>179</td>\n",
       "      <td>80</td>\n",
       "    </tr>\n",
       "    <tr>\n",
       "      <th>Canada</th>\n",
       "      <td>146</td>\n",
       "      <td>67</td>\n",
       "    </tr>\n",
       "    <tr>\n",
       "      <th>...</th>\n",
       "      <td>...</td>\n",
       "      <td>...</td>\n",
       "    </tr>\n",
       "    <tr>\n",
       "      <th>Sierra Leone</th>\n",
       "      <td>1</td>\n",
       "      <td>1</td>\n",
       "    </tr>\n",
       "    <tr>\n",
       "      <th>Bahrain</th>\n",
       "      <td>1</td>\n",
       "      <td>0</td>\n",
       "    </tr>\n",
       "    <tr>\n",
       "      <th>Kazakhstan</th>\n",
       "      <td>1</td>\n",
       "      <td>0</td>\n",
       "    </tr>\n",
       "    <tr>\n",
       "      <th>Guyana</th>\n",
       "      <td>1</td>\n",
       "      <td>1</td>\n",
       "    </tr>\n",
       "    <tr>\n",
       "      <th>Andorra</th>\n",
       "      <td>1</td>\n",
       "      <td>0</td>\n",
       "    </tr>\n",
       "  </tbody>\n",
       "</table>\n",
       "<p>127 rows × 2 columns</p>\n",
       "</div>"
      ],
      "text/plain": [
       "                Country  LanguageWorkedWith\n",
       "United States       787                 386\n",
       "India               317                 111\n",
       "United Kingdom      207                  86\n",
       "Germany             179                  80\n",
       "Canada              146                  67\n",
       "...                 ...                 ...\n",
       "Sierra Leone          1                   1\n",
       "Bahrain               1                   0\n",
       "Kazakhstan            1                   0\n",
       "Guyana                1                   1\n",
       "Andorra               1                   0\n",
       "\n",
       "[127 rows x 2 columns]"
      ]
     },
     "execution_count": 54,
     "metadata": {},
     "output_type": "execute_result"
    }
   ],
   "source": [
    "# Pandas concate function\n",
    "python_df = pd.concat([country_respondents,country_uses_python], axis = \"columns\",sort = False)\n",
    "python_df"
   ]
  },
  {
   "cell_type": "markdown",
   "metadata": {},
   "source": [
    "Once create your data frame, you could work with them as one."
   ]
  },
  {
   "cell_type": "code",
   "execution_count": 47,
   "metadata": {},
   "outputs": [
    {
     "data": {
      "text/html": [
       "<div>\n",
       "<style scoped>\n",
       "    .dataframe tbody tr th:only-of-type {\n",
       "        vertical-align: middle;\n",
       "    }\n",
       "\n",
       "    .dataframe tbody tr th {\n",
       "        vertical-align: top;\n",
       "    }\n",
       "\n",
       "    .dataframe thead th {\n",
       "        text-align: right;\n",
       "    }\n",
       "</style>\n",
       "<table border=\"1\" class=\"dataframe\">\n",
       "  <thead>\n",
       "    <tr style=\"text-align: right;\">\n",
       "      <th></th>\n",
       "      <th>NumResponders</th>\n",
       "      <th>NumKnowsPython</th>\n",
       "      <th>%Pythonist</th>\n",
       "    </tr>\n",
       "  </thead>\n",
       "  <tbody>\n",
       "    <tr>\n",
       "      <th>United States</th>\n",
       "      <td>787</td>\n",
       "      <td>386</td>\n",
       "      <td>49.047014</td>\n",
       "    </tr>\n",
       "    <tr>\n",
       "      <th>Sweden</th>\n",
       "      <td>56</td>\n",
       "      <td>27</td>\n",
       "      <td>48.214286</td>\n",
       "    </tr>\n",
       "    <tr>\n",
       "      <th>Australia</th>\n",
       "      <td>78</td>\n",
       "      <td>37</td>\n",
       "      <td>47.435897</td>\n",
       "    </tr>\n",
       "    <tr>\n",
       "      <th>Russian Federation</th>\n",
       "      <td>67</td>\n",
       "      <td>31</td>\n",
       "      <td>46.268657</td>\n",
       "    </tr>\n",
       "    <tr>\n",
       "      <th>Canada</th>\n",
       "      <td>146</td>\n",
       "      <td>67</td>\n",
       "      <td>45.890411</td>\n",
       "    </tr>\n",
       "    <tr>\n",
       "      <th>France</th>\n",
       "      <td>96</td>\n",
       "      <td>44</td>\n",
       "      <td>45.833333</td>\n",
       "    </tr>\n",
       "    <tr>\n",
       "      <th>Italy</th>\n",
       "      <td>58</td>\n",
       "      <td>26</td>\n",
       "      <td>44.827586</td>\n",
       "    </tr>\n",
       "    <tr>\n",
       "      <th>Germany</th>\n",
       "      <td>179</td>\n",
       "      <td>80</td>\n",
       "      <td>44.692737</td>\n",
       "    </tr>\n",
       "    <tr>\n",
       "      <th>Brazil</th>\n",
       "      <td>71</td>\n",
       "      <td>31</td>\n",
       "      <td>43.661972</td>\n",
       "    </tr>\n",
       "    <tr>\n",
       "      <th>United Kingdom</th>\n",
       "      <td>207</td>\n",
       "      <td>86</td>\n",
       "      <td>41.545894</td>\n",
       "    </tr>\n",
       "    <tr>\n",
       "      <th>Netherlands</th>\n",
       "      <td>84</td>\n",
       "      <td>33</td>\n",
       "      <td>39.285714</td>\n",
       "    </tr>\n",
       "    <tr>\n",
       "      <th>Poland</th>\n",
       "      <td>77</td>\n",
       "      <td>28</td>\n",
       "      <td>36.363636</td>\n",
       "    </tr>\n",
       "    <tr>\n",
       "      <th>India</th>\n",
       "      <td>317</td>\n",
       "      <td>111</td>\n",
       "      <td>35.015773</td>\n",
       "    </tr>\n",
       "    <tr>\n",
       "      <th>Spain</th>\n",
       "      <td>67</td>\n",
       "      <td>20</td>\n",
       "      <td>29.850746</td>\n",
       "    </tr>\n",
       "  </tbody>\n",
       "</table>\n",
       "</div>"
      ],
      "text/plain": [
       "                    NumResponders  NumKnowsPython  %Pythonist\n",
       "United States                 787             386   49.047014\n",
       "Sweden                         56              27   48.214286\n",
       "Australia                      78              37   47.435897\n",
       "Russian Federation             67              31   46.268657\n",
       "Canada                        146              67   45.890411\n",
       "France                         96              44   45.833333\n",
       "Italy                          58              26   44.827586\n",
       "Germany                       179              80   44.692737\n",
       "Brazil                         71              31   43.661972\n",
       "United Kingdom                207              86   41.545894\n",
       "Netherlands                    84              33   39.285714\n",
       "Poland                         77              28   36.363636\n",
       "India                         317             111   35.015773\n",
       "Spain                          67              20   29.850746"
      ]
     },
     "execution_count": 47,
     "metadata": {},
     "output_type": "execute_result"
    }
   ],
   "source": [
    "# Renaming the columns.\n",
    "python_df.rename(columns={\"Country\":\"NumResponders\",\"LanguageWorkedWith\":\"NumKnowsPython\"}, inplace=True)\n",
    "\n",
    "# Creating a column with the % of the pythonist\n",
    "python_df[\"%Pythonist\"] = (python_df[\"NumKnowsPython\"] / python_df[\"NumResponders\"]) * 100\n",
    "\n",
    "# Sorting the date by % Pythonist.\n",
    "python_df.sort_values(by=\"%Pythonist\", ascending = False, inplace = True)\n",
    "\n",
    "# Filtring and showing the data.\n",
    "filt = python_df[\"NumResponders\"] > 50\n",
    "python_df.loc[filt]"
   ]
  },
  {
   "cell_type": "code",
   "execution_count": null,
   "metadata": {},
   "outputs": [],
   "source": [
    "# Tutorial continues on video nº 9"
   ]
  },
  {
   "cell_type": "code",
   "execution_count": null,
   "metadata": {},
   "outputs": [],
   "source": []
  }
 ],
 "metadata": {
  "kernelspec": {
   "display_name": "Python",
   "language": "python",
   "name": "conda-env-python-py"
  },
  "language_info": {
   "codemirror_mode": {
    "name": "ipython",
    "version": 3
   },
   "file_extension": ".py",
   "mimetype": "text/x-python",
   "name": "python",
   "nbconvert_exporter": "python",
   "pygments_lexer": "ipython3",
   "version": "3.6.11"
  }
 },
 "nbformat": 4,
 "nbformat_minor": 4
}
